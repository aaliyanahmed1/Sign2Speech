{
  "nbformat": 4,
  "nbformat_minor": 0,
  "metadata": {
    "colab": {
      "provenance": []
    },
    "kernelspec": {
      "name": "python3",
      "display_name": "Python 3"
    },
    "language_info": {
      "name": "python"
    }
  },
  "cells": [
    {
      "cell_type": "code",
      "execution_count": 1,
      "metadata": {
        "colab": {
          "base_uri": "https://localhost:8080/"
        },
        "id": "LcVdt87vto6X",
        "outputId": "39ad21a7-1996-4349-8cfc-89621afcea40"
      },
      "outputs": [
        {
          "output_type": "stream",
          "name": "stdout",
          "text": [
            "Mounted at /content/drive\n"
          ]
        }
      ],
      "source": [
        "# prompt: write a simple code for me to train a yolo model yolo 12 on my custom dataset and  make a ll cells from mounting drive to loading dataset and the training and then maiking directory into the drive after completion of training testing etc and saving whole runs folder  there ok\n",
        "\n",
        "# Mount Google Drive\n",
        "from google.colab import drive\n",
        "drive.mount('/content/drive')\n"
      ]
    },
    {
      "cell_type": "code",
      "source": [
        "!pip install ultralytics\n"
      ],
      "metadata": {
        "colab": {
          "base_uri": "https://localhost:8080/"
        },
        "id": "3-N5nhU3veu0",
        "outputId": "296fa797-51b5-4a8d-be20-e86526f6defa"
      },
      "execution_count": 5,
      "outputs": [
        {
          "output_type": "stream",
          "name": "stdout",
          "text": [
            "Collecting ultralytics\n",
            "  Downloading ultralytics-8.3.159-py3-none-any.whl.metadata (37 kB)\n",
            "Requirement already satisfied: numpy>=1.23.0 in /usr/local/lib/python3.11/dist-packages (from ultralytics) (2.0.2)\n",
            "Requirement already satisfied: matplotlib>=3.3.0 in /usr/local/lib/python3.11/dist-packages (from ultralytics) (3.10.0)\n",
            "Requirement already satisfied: opencv-python>=4.6.0 in /usr/local/lib/python3.11/dist-packages (from ultralytics) (4.11.0.86)\n",
            "Requirement already satisfied: pillow>=7.1.2 in /usr/local/lib/python3.11/dist-packages (from ultralytics) (11.2.1)\n",
            "Requirement already satisfied: pyyaml>=5.3.1 in /usr/local/lib/python3.11/dist-packages (from ultralytics) (6.0.2)\n",
            "Requirement already satisfied: requests>=2.23.0 in /usr/local/lib/python3.11/dist-packages (from ultralytics) (2.32.3)\n",
            "Requirement already satisfied: scipy>=1.4.1 in /usr/local/lib/python3.11/dist-packages (from ultralytics) (1.15.3)\n",
            "Requirement already satisfied: torch>=1.8.0 in /usr/local/lib/python3.11/dist-packages (from ultralytics) (2.6.0+cu124)\n",
            "Requirement already satisfied: torchvision>=0.9.0 in /usr/local/lib/python3.11/dist-packages (from ultralytics) (0.21.0+cu124)\n",
            "Requirement already satisfied: tqdm>=4.64.0 in /usr/local/lib/python3.11/dist-packages (from ultralytics) (4.67.1)\n",
            "Requirement already satisfied: psutil in /usr/local/lib/python3.11/dist-packages (from ultralytics) (5.9.5)\n",
            "Requirement already satisfied: py-cpuinfo in /usr/local/lib/python3.11/dist-packages (from ultralytics) (9.0.0)\n",
            "Requirement already satisfied: pandas>=1.1.4 in /usr/local/lib/python3.11/dist-packages (from ultralytics) (2.2.2)\n",
            "Collecting ultralytics-thop>=2.0.0 (from ultralytics)\n",
            "  Downloading ultralytics_thop-2.0.14-py3-none-any.whl.metadata (9.4 kB)\n",
            "Requirement already satisfied: contourpy>=1.0.1 in /usr/local/lib/python3.11/dist-packages (from matplotlib>=3.3.0->ultralytics) (1.3.2)\n",
            "Requirement already satisfied: cycler>=0.10 in /usr/local/lib/python3.11/dist-packages (from matplotlib>=3.3.0->ultralytics) (0.12.1)\n",
            "Requirement already satisfied: fonttools>=4.22.0 in /usr/local/lib/python3.11/dist-packages (from matplotlib>=3.3.0->ultralytics) (4.58.4)\n",
            "Requirement already satisfied: kiwisolver>=1.3.1 in /usr/local/lib/python3.11/dist-packages (from matplotlib>=3.3.0->ultralytics) (1.4.8)\n",
            "Requirement already satisfied: packaging>=20.0 in /usr/local/lib/python3.11/dist-packages (from matplotlib>=3.3.0->ultralytics) (24.2)\n",
            "Requirement already satisfied: pyparsing>=2.3.1 in /usr/local/lib/python3.11/dist-packages (from matplotlib>=3.3.0->ultralytics) (3.2.3)\n",
            "Requirement already satisfied: python-dateutil>=2.7 in /usr/local/lib/python3.11/dist-packages (from matplotlib>=3.3.0->ultralytics) (2.9.0.post0)\n",
            "Requirement already satisfied: pytz>=2020.1 in /usr/local/lib/python3.11/dist-packages (from pandas>=1.1.4->ultralytics) (2025.2)\n",
            "Requirement already satisfied: tzdata>=2022.7 in /usr/local/lib/python3.11/dist-packages (from pandas>=1.1.4->ultralytics) (2025.2)\n",
            "Requirement already satisfied: charset-normalizer<4,>=2 in /usr/local/lib/python3.11/dist-packages (from requests>=2.23.0->ultralytics) (3.4.2)\n",
            "Requirement already satisfied: idna<4,>=2.5 in /usr/local/lib/python3.11/dist-packages (from requests>=2.23.0->ultralytics) (3.10)\n",
            "Requirement already satisfied: urllib3<3,>=1.21.1 in /usr/local/lib/python3.11/dist-packages (from requests>=2.23.0->ultralytics) (2.4.0)\n",
            "Requirement already satisfied: certifi>=2017.4.17 in /usr/local/lib/python3.11/dist-packages (from requests>=2.23.0->ultralytics) (2025.6.15)\n",
            "Requirement already satisfied: filelock in /usr/local/lib/python3.11/dist-packages (from torch>=1.8.0->ultralytics) (3.18.0)\n",
            "Requirement already satisfied: typing-extensions>=4.10.0 in /usr/local/lib/python3.11/dist-packages (from torch>=1.8.0->ultralytics) (4.14.0)\n",
            "Requirement already satisfied: networkx in /usr/local/lib/python3.11/dist-packages (from torch>=1.8.0->ultralytics) (3.5)\n",
            "Requirement already satisfied: jinja2 in /usr/local/lib/python3.11/dist-packages (from torch>=1.8.0->ultralytics) (3.1.6)\n",
            "Requirement already satisfied: fsspec in /usr/local/lib/python3.11/dist-packages (from torch>=1.8.0->ultralytics) (2025.3.2)\n",
            "Collecting nvidia-cuda-nvrtc-cu12==12.4.127 (from torch>=1.8.0->ultralytics)\n",
            "  Downloading nvidia_cuda_nvrtc_cu12-12.4.127-py3-none-manylinux2014_x86_64.whl.metadata (1.5 kB)\n",
            "Collecting nvidia-cuda-runtime-cu12==12.4.127 (from torch>=1.8.0->ultralytics)\n",
            "  Downloading nvidia_cuda_runtime_cu12-12.4.127-py3-none-manylinux2014_x86_64.whl.metadata (1.5 kB)\n",
            "Collecting nvidia-cuda-cupti-cu12==12.4.127 (from torch>=1.8.0->ultralytics)\n",
            "  Downloading nvidia_cuda_cupti_cu12-12.4.127-py3-none-manylinux2014_x86_64.whl.metadata (1.6 kB)\n",
            "Collecting nvidia-cudnn-cu12==9.1.0.70 (from torch>=1.8.0->ultralytics)\n",
            "  Downloading nvidia_cudnn_cu12-9.1.0.70-py3-none-manylinux2014_x86_64.whl.metadata (1.6 kB)\n",
            "Collecting nvidia-cublas-cu12==12.4.5.8 (from torch>=1.8.0->ultralytics)\n",
            "  Downloading nvidia_cublas_cu12-12.4.5.8-py3-none-manylinux2014_x86_64.whl.metadata (1.5 kB)\n",
            "Collecting nvidia-cufft-cu12==11.2.1.3 (from torch>=1.8.0->ultralytics)\n",
            "  Downloading nvidia_cufft_cu12-11.2.1.3-py3-none-manylinux2014_x86_64.whl.metadata (1.5 kB)\n",
            "Collecting nvidia-curand-cu12==10.3.5.147 (from torch>=1.8.0->ultralytics)\n",
            "  Downloading nvidia_curand_cu12-10.3.5.147-py3-none-manylinux2014_x86_64.whl.metadata (1.5 kB)\n",
            "Collecting nvidia-cusolver-cu12==11.6.1.9 (from torch>=1.8.0->ultralytics)\n",
            "  Downloading nvidia_cusolver_cu12-11.6.1.9-py3-none-manylinux2014_x86_64.whl.metadata (1.6 kB)\n",
            "Collecting nvidia-cusparse-cu12==12.3.1.170 (from torch>=1.8.0->ultralytics)\n",
            "  Downloading nvidia_cusparse_cu12-12.3.1.170-py3-none-manylinux2014_x86_64.whl.metadata (1.6 kB)\n",
            "Requirement already satisfied: nvidia-cusparselt-cu12==0.6.2 in /usr/local/lib/python3.11/dist-packages (from torch>=1.8.0->ultralytics) (0.6.2)\n",
            "Requirement already satisfied: nvidia-nccl-cu12==2.21.5 in /usr/local/lib/python3.11/dist-packages (from torch>=1.8.0->ultralytics) (2.21.5)\n",
            "Requirement already satisfied: nvidia-nvtx-cu12==12.4.127 in /usr/local/lib/python3.11/dist-packages (from torch>=1.8.0->ultralytics) (12.4.127)\n",
            "Collecting nvidia-nvjitlink-cu12==12.4.127 (from torch>=1.8.0->ultralytics)\n",
            "  Downloading nvidia_nvjitlink_cu12-12.4.127-py3-none-manylinux2014_x86_64.whl.metadata (1.5 kB)\n",
            "Requirement already satisfied: triton==3.2.0 in /usr/local/lib/python3.11/dist-packages (from torch>=1.8.0->ultralytics) (3.2.0)\n",
            "Requirement already satisfied: sympy==1.13.1 in /usr/local/lib/python3.11/dist-packages (from torch>=1.8.0->ultralytics) (1.13.1)\n",
            "Requirement already satisfied: mpmath<1.4,>=1.1.0 in /usr/local/lib/python3.11/dist-packages (from sympy==1.13.1->torch>=1.8.0->ultralytics) (1.3.0)\n",
            "Requirement already satisfied: six>=1.5 in /usr/local/lib/python3.11/dist-packages (from python-dateutil>=2.7->matplotlib>=3.3.0->ultralytics) (1.17.0)\n",
            "Requirement already satisfied: MarkupSafe>=2.0 in /usr/local/lib/python3.11/dist-packages (from jinja2->torch>=1.8.0->ultralytics) (3.0.2)\n",
            "Downloading ultralytics-8.3.159-py3-none-any.whl (1.0 MB)\n",
            "\u001b[2K   \u001b[90m━━━━━━━━━━━━━━━━━━━━━━━━━━━━━━━━━━━━━━━━\u001b[0m \u001b[32m1.0/1.0 MB\u001b[0m \u001b[31m19.6 MB/s\u001b[0m eta \u001b[36m0:00:00\u001b[0m\n",
            "\u001b[?25hDownloading nvidia_cublas_cu12-12.4.5.8-py3-none-manylinux2014_x86_64.whl (363.4 MB)\n",
            "\u001b[2K   \u001b[90m━━━━━━━━━━━━━━━━━━━━━━━━━━━━━━━━━━━━━━━━\u001b[0m \u001b[32m363.4/363.4 MB\u001b[0m \u001b[31m4.4 MB/s\u001b[0m eta \u001b[36m0:00:00\u001b[0m\n",
            "\u001b[?25hDownloading nvidia_cuda_cupti_cu12-12.4.127-py3-none-manylinux2014_x86_64.whl (13.8 MB)\n",
            "\u001b[2K   \u001b[90m━━━━━━━━━━━━━━━━━━━━━━━━━━━━━━━━━━━━━━━━\u001b[0m \u001b[32m13.8/13.8 MB\u001b[0m \u001b[31m100.8 MB/s\u001b[0m eta \u001b[36m0:00:00\u001b[0m\n",
            "\u001b[?25hDownloading nvidia_cuda_nvrtc_cu12-12.4.127-py3-none-manylinux2014_x86_64.whl (24.6 MB)\n",
            "\u001b[2K   \u001b[90m━━━━━━━━━━━━━━━━━━━━━━━━━━━━━━━━━━━━━━━━\u001b[0m \u001b[32m24.6/24.6 MB\u001b[0m \u001b[31m76.5 MB/s\u001b[0m eta \u001b[36m0:00:00\u001b[0m\n",
            "\u001b[?25hDownloading nvidia_cuda_runtime_cu12-12.4.127-py3-none-manylinux2014_x86_64.whl (883 kB)\n",
            "\u001b[2K   \u001b[90m━━━━━━━━━━━━━━━━━━━━━━━━━━━━━━━━━━━━━━━━\u001b[0m \u001b[32m883.7/883.7 kB\u001b[0m \u001b[31m50.4 MB/s\u001b[0m eta \u001b[36m0:00:00\u001b[0m\n",
            "\u001b[?25hDownloading nvidia_cudnn_cu12-9.1.0.70-py3-none-manylinux2014_x86_64.whl (664.8 MB)\n",
            "\u001b[2K   \u001b[90m━━━━━━━━━━━━━━━━━━━━━━━━━━━━━━━━━━━━━━━━\u001b[0m \u001b[32m664.8/664.8 MB\u001b[0m \u001b[31m1.2 MB/s\u001b[0m eta \u001b[36m0:00:00\u001b[0m\n",
            "\u001b[?25hDownloading nvidia_cufft_cu12-11.2.1.3-py3-none-manylinux2014_x86_64.whl (211.5 MB)\n",
            "\u001b[2K   \u001b[90m━━━━━━━━━━━━━━━━━━━━━━━━━━━━━━━━━━━━━━━━\u001b[0m \u001b[32m211.5/211.5 MB\u001b[0m \u001b[31m3.8 MB/s\u001b[0m eta \u001b[36m0:00:00\u001b[0m\n",
            "\u001b[?25hDownloading nvidia_curand_cu12-10.3.5.147-py3-none-manylinux2014_x86_64.whl (56.3 MB)\n",
            "\u001b[2K   \u001b[90m━━━━━━━━━━━━━━━━━━━━━━━━━━━━━━━━━━━━━━━━\u001b[0m \u001b[32m56.3/56.3 MB\u001b[0m \u001b[31m11.6 MB/s\u001b[0m eta \u001b[36m0:00:00\u001b[0m\n",
            "\u001b[?25hDownloading nvidia_cusolver_cu12-11.6.1.9-py3-none-manylinux2014_x86_64.whl (127.9 MB)\n",
            "\u001b[2K   \u001b[90m━━━━━━━━━━━━━━━━━━━━━━━━━━━━━━━━━━━━━━━━\u001b[0m \u001b[32m127.9/127.9 MB\u001b[0m \u001b[31m6.1 MB/s\u001b[0m eta \u001b[36m0:00:00\u001b[0m\n",
            "\u001b[?25hDownloading nvidia_cusparse_cu12-12.3.1.170-py3-none-manylinux2014_x86_64.whl (207.5 MB)\n",
            "\u001b[2K   \u001b[90m━━━━━━━━━━━━━━━━━━━━━━━━━━━━━━━━━━━━━━━━\u001b[0m \u001b[32m207.5/207.5 MB\u001b[0m \u001b[31m4.8 MB/s\u001b[0m eta \u001b[36m0:00:00\u001b[0m\n",
            "\u001b[?25hDownloading nvidia_nvjitlink_cu12-12.4.127-py3-none-manylinux2014_x86_64.whl (21.1 MB)\n",
            "\u001b[2K   \u001b[90m━━━━━━━━━━━━━━━━━━━━━━━━━━━━━━━━━━━━━━━━\u001b[0m \u001b[32m21.1/21.1 MB\u001b[0m \u001b[31m86.9 MB/s\u001b[0m eta \u001b[36m0:00:00\u001b[0m\n",
            "\u001b[?25hDownloading ultralytics_thop-2.0.14-py3-none-any.whl (26 kB)\n",
            "Installing collected packages: nvidia-nvjitlink-cu12, nvidia-curand-cu12, nvidia-cufft-cu12, nvidia-cuda-runtime-cu12, nvidia-cuda-nvrtc-cu12, nvidia-cuda-cupti-cu12, nvidia-cublas-cu12, nvidia-cusparse-cu12, nvidia-cudnn-cu12, nvidia-cusolver-cu12, ultralytics-thop, ultralytics\n",
            "  Attempting uninstall: nvidia-nvjitlink-cu12\n",
            "    Found existing installation: nvidia-nvjitlink-cu12 12.5.82\n",
            "    Uninstalling nvidia-nvjitlink-cu12-12.5.82:\n",
            "      Successfully uninstalled nvidia-nvjitlink-cu12-12.5.82\n",
            "  Attempting uninstall: nvidia-curand-cu12\n",
            "    Found existing installation: nvidia-curand-cu12 10.3.6.82\n",
            "    Uninstalling nvidia-curand-cu12-10.3.6.82:\n",
            "      Successfully uninstalled nvidia-curand-cu12-10.3.6.82\n",
            "  Attempting uninstall: nvidia-cufft-cu12\n",
            "    Found existing installation: nvidia-cufft-cu12 11.2.3.61\n",
            "    Uninstalling nvidia-cufft-cu12-11.2.3.61:\n",
            "      Successfully uninstalled nvidia-cufft-cu12-11.2.3.61\n",
            "  Attempting uninstall: nvidia-cuda-runtime-cu12\n",
            "    Found existing installation: nvidia-cuda-runtime-cu12 12.5.82\n",
            "    Uninstalling nvidia-cuda-runtime-cu12-12.5.82:\n",
            "      Successfully uninstalled nvidia-cuda-runtime-cu12-12.5.82\n",
            "  Attempting uninstall: nvidia-cuda-nvrtc-cu12\n",
            "    Found existing installation: nvidia-cuda-nvrtc-cu12 12.5.82\n",
            "    Uninstalling nvidia-cuda-nvrtc-cu12-12.5.82:\n",
            "      Successfully uninstalled nvidia-cuda-nvrtc-cu12-12.5.82\n",
            "  Attempting uninstall: nvidia-cuda-cupti-cu12\n",
            "    Found existing installation: nvidia-cuda-cupti-cu12 12.5.82\n",
            "    Uninstalling nvidia-cuda-cupti-cu12-12.5.82:\n",
            "      Successfully uninstalled nvidia-cuda-cupti-cu12-12.5.82\n",
            "  Attempting uninstall: nvidia-cublas-cu12\n",
            "    Found existing installation: nvidia-cublas-cu12 12.5.3.2\n",
            "    Uninstalling nvidia-cublas-cu12-12.5.3.2:\n",
            "      Successfully uninstalled nvidia-cublas-cu12-12.5.3.2\n",
            "  Attempting uninstall: nvidia-cusparse-cu12\n",
            "    Found existing installation: nvidia-cusparse-cu12 12.5.1.3\n",
            "    Uninstalling nvidia-cusparse-cu12-12.5.1.3:\n",
            "      Successfully uninstalled nvidia-cusparse-cu12-12.5.1.3\n",
            "  Attempting uninstall: nvidia-cudnn-cu12\n",
            "    Found existing installation: nvidia-cudnn-cu12 9.3.0.75\n",
            "    Uninstalling nvidia-cudnn-cu12-9.3.0.75:\n",
            "      Successfully uninstalled nvidia-cudnn-cu12-9.3.0.75\n",
            "  Attempting uninstall: nvidia-cusolver-cu12\n",
            "    Found existing installation: nvidia-cusolver-cu12 11.6.3.83\n",
            "    Uninstalling nvidia-cusolver-cu12-11.6.3.83:\n",
            "      Successfully uninstalled nvidia-cusolver-cu12-11.6.3.83\n",
            "Successfully installed nvidia-cublas-cu12-12.4.5.8 nvidia-cuda-cupti-cu12-12.4.127 nvidia-cuda-nvrtc-cu12-12.4.127 nvidia-cuda-runtime-cu12-12.4.127 nvidia-cudnn-cu12-9.1.0.70 nvidia-cufft-cu12-11.2.1.3 nvidia-curand-cu12-10.3.5.147 nvidia-cusolver-cu12-11.6.1.9 nvidia-cusparse-cu12-12.3.1.170 nvidia-nvjitlink-cu12-12.4.127 ultralytics-8.3.159 ultralytics-thop-2.0.14\n"
          ]
        }
      ]
    },
    {
      "cell_type": "code",
      "source": [
        "from ultralytics import YOLO\n",
        "\n",
        "# Load a YOLOv8 model (nano, small, medium, large)\n",
        "model = YOLO('/content/yolo12n.pt')  # or yolov8s.pt for small, etc.\n",
        "\n",
        "# Train the model\n",
        "model.train(\n",
        "    data='/content/drive/MyDrive/sign_dataset/dataset.yaml',  # path to your dataset config\n",
        "    epochs=100,\n",
        "    imgsz=640,\n",
        "    batch=16,\n",
        "    device=0,  # Set to 'cpu' or '0' for first GPU\n",
        "    name='yolo_sign_model'\n",
        ")\n",
        "\n",
        "# Save model\n",
        "model_path = 'runs/detect/yolo_sign_model/weights/best.pt'\n",
        "print(f\"✅ Model trained and saved at: {model_path}\")"
      ],
      "metadata": {
        "colab": {
          "base_uri": "https://localhost:8080/"
        },
        "id": "HMUcOIfuvf1c",
        "outputId": "c1e09936-4b04-4b56-d1df-8a84460c1d2d"
      },
      "execution_count": 2,
      "outputs": [
        {
          "output_type": "stream",
          "name": "stdout",
          "text": [
            "Ultralytics 8.3.159 🚀 Python-3.11.13 torch-2.6.0+cu124 CUDA:0 (Tesla T4, 15095MiB)\n",
            "\u001b[34m\u001b[1mengine/trainer: \u001b[0magnostic_nms=False, amp=True, augment=False, auto_augment=randaugment, batch=16, bgr=0.0, box=7.5, cache=False, cfg=None, classes=None, close_mosaic=10, cls=0.5, conf=None, copy_paste=0.0, copy_paste_mode=flip, cos_lr=False, cutmix=0.0, data=/content/drive/MyDrive/sign_dataset/dataset.yaml, degrees=0.0, deterministic=True, device=0, dfl=1.5, dnn=False, dropout=0.0, dynamic=False, embed=None, epochs=100, erasing=0.4, exist_ok=False, fliplr=0.5, flipud=0.0, format=torchscript, fraction=1.0, freeze=None, half=False, hsv_h=0.015, hsv_s=0.7, hsv_v=0.4, imgsz=640, int8=False, iou=0.7, keras=False, kobj=1.0, line_width=None, lr0=0.01, lrf=0.01, mask_ratio=4, max_det=300, mixup=0.0, mode=train, model=/content/yolo12n.pt, momentum=0.937, mosaic=1.0, multi_scale=False, name=yolo_sign_model2, nbs=64, nms=False, opset=None, optimize=False, optimizer=auto, overlap_mask=True, patience=100, perspective=0.0, plots=True, pose=12.0, pretrained=True, profile=False, project=None, rect=False, resume=False, retina_masks=False, save=True, save_conf=False, save_crop=False, save_dir=runs/detect/yolo_sign_model2, save_frames=False, save_json=False, save_period=-1, save_txt=False, scale=0.5, seed=0, shear=0.0, show=False, show_boxes=True, show_conf=True, show_labels=True, simplify=True, single_cls=False, source=None, split=val, stream_buffer=False, task=detect, time=None, tracker=botsort.yaml, translate=0.1, val=True, verbose=True, vid_stride=1, visualize=False, warmup_bias_lr=0.1, warmup_epochs=3.0, warmup_momentum=0.8, weight_decay=0.0005, workers=8, workspace=None\n",
            "Overriding model.yaml nc=80 with nc=23\n",
            "\n",
            "                   from  n    params  module                                       arguments                     \n",
            "  0                  -1  1       464  ultralytics.nn.modules.conv.Conv             [3, 16, 3, 2]                 \n",
            "  1                  -1  1      4672  ultralytics.nn.modules.conv.Conv             [16, 32, 3, 2]                \n",
            "  2                  -1  1      6640  ultralytics.nn.modules.block.C3k2            [32, 64, 1, False, 0.25]      \n",
            "  3                  -1  1     36992  ultralytics.nn.modules.conv.Conv             [64, 64, 3, 2]                \n",
            "  4                  -1  1     26080  ultralytics.nn.modules.block.C3k2            [64, 128, 1, False, 0.25]     \n",
            "  5                  -1  1    147712  ultralytics.nn.modules.conv.Conv             [128, 128, 3, 2]              \n",
            "  6                  -1  2    180864  ultralytics.nn.modules.block.A2C2f           [128, 128, 2, True, 4]        \n",
            "  7                  -1  1    295424  ultralytics.nn.modules.conv.Conv             [128, 256, 3, 2]              \n",
            "  8                  -1  2    689408  ultralytics.nn.modules.block.A2C2f           [256, 256, 2, True, 1]        \n",
            "  9                  -1  1         0  torch.nn.modules.upsampling.Upsample         [None, 2, 'nearest']          \n",
            " 10             [-1, 6]  1         0  ultralytics.nn.modules.conv.Concat           [1]                           \n",
            " 11                  -1  1     86912  ultralytics.nn.modules.block.A2C2f           [384, 128, 1, False, -1]      \n",
            " 12                  -1  1         0  torch.nn.modules.upsampling.Upsample         [None, 2, 'nearest']          \n",
            " 13             [-1, 4]  1         0  ultralytics.nn.modules.conv.Concat           [1]                           \n",
            " 14                  -1  1     24000  ultralytics.nn.modules.block.A2C2f           [256, 64, 1, False, -1]       \n",
            " 15                  -1  1     36992  ultralytics.nn.modules.conv.Conv             [64, 64, 3, 2]                \n",
            " 16            [-1, 11]  1         0  ultralytics.nn.modules.conv.Concat           [1]                           \n",
            " 17                  -1  1     74624  ultralytics.nn.modules.block.A2C2f           [192, 128, 1, False, -1]      \n",
            " 18                  -1  1    147712  ultralytics.nn.modules.conv.Conv             [128, 128, 3, 2]              \n",
            " 19             [-1, 8]  1         0  ultralytics.nn.modules.conv.Concat           [1]                           \n",
            " 20                  -1  1    378880  ultralytics.nn.modules.block.C3k2            [384, 256, 1, True]           \n",
            " 21        [14, 17, 20]  1    435157  ultralytics.nn.modules.head.Detect           [23, [64, 128, 256]]          \n",
            "YOLOv12n summary: 272 layers, 2,572,533 parameters, 2,572,517 gradients, 6.5 GFLOPs\n",
            "\n",
            "Transferred 640/691 items from pretrained weights\n",
            "Freezing layer 'model.21.dfl.conv.weight'\n",
            "\u001b[34m\u001b[1mAMP: \u001b[0mrunning Automatic Mixed Precision (AMP) checks...\n",
            "\u001b[34m\u001b[1mAMP: \u001b[0mchecks passed ✅\n",
            "\u001b[34m\u001b[1mtrain: \u001b[0mFast image access ✅ (ping: 1.0±1.0 ms, read: 95.4±197.2 MB/s, size: 2912.7 KB)\n"
          ]
        },
        {
          "output_type": "stream",
          "name": "stderr",
          "text": [
            "\u001b[34m\u001b[1mtrain: \u001b[0mScanning /content/drive/MyDrive/sign_dataset/labels/train... 164 images, 107 backgrounds, 0 corrupt: 100%|██████████| 271/271 [00:31<00:00,  8.74it/s]"
          ]
        },
        {
          "output_type": "stream",
          "name": "stdout",
          "text": [
            "\u001b[34m\u001b[1mtrain: \u001b[0mNew cache created: /content/drive/MyDrive/sign_dataset/labels/train.cache\n"
          ]
        },
        {
          "output_type": "stream",
          "name": "stderr",
          "text": [
            "\n"
          ]
        },
        {
          "output_type": "stream",
          "name": "stdout",
          "text": [
            "\u001b[34m\u001b[1malbumentations: \u001b[0mBlur(p=0.01, blur_limit=(3, 7)), MedianBlur(p=0.01, blur_limit=(3, 7)), ToGray(p=0.01, method='weighted_average', num_output_channels=3), CLAHE(p=0.01, clip_limit=(1.0, 4.0), tile_grid_size=(8, 8))\n",
            "WARNING ⚠️ \u001b[34m\u001b[1mval: \u001b[0mSlow image access detected (ping: 10.2±19.6 ms, read: 184.8±202.7 MB/s, size: 2842.9 KB). Use local storage instead of remote/mounted storage for better performance. See https://docs.ultralytics.com/guides/model-training-tips/\n"
          ]
        },
        {
          "output_type": "stream",
          "name": "stderr",
          "text": [
            "\u001b[34m\u001b[1mval: \u001b[0mScanning /content/drive/MyDrive/sign_dataset/labels/val.cache... 165 images, 107 backgrounds, 0 corrupt: 100%|██████████| 272/272 [00:00<?, ?it/s]\n"
          ]
        },
        {
          "output_type": "stream",
          "name": "stdout",
          "text": [
            "Plotting labels to runs/detect/yolo_sign_model2/labels.jpg... \n",
            "\u001b[34m\u001b[1moptimizer:\u001b[0m 'optimizer=auto' found, ignoring 'lr0=0.01' and 'momentum=0.937' and determining best 'optimizer', 'lr0' and 'momentum' automatically... \n",
            "\u001b[34m\u001b[1moptimizer:\u001b[0m AdamW(lr=0.00037, momentum=0.9) with parameter groups 113 weight(decay=0.0), 120 weight(decay=0.0005), 119 bias(decay=0.0)\n",
            "Image sizes 640 train, 640 val\n",
            "Using 2 dataloader workers\n",
            "Logging results to \u001b[1mruns/detect/yolo_sign_model2\u001b[0m\n",
            "Starting training for 100 epochs...\n",
            "\n",
            "      Epoch    GPU_mem   box_loss   cls_loss   dfl_loss  Instances       Size\n"
          ]
        },
        {
          "output_type": "stream",
          "name": "stderr",
          "text": [
            "      1/100       3.2G      1.387      5.878      1.522         17        640: 100%|██████████| 17/17 [00:40<00:00,  2.40s/it]\n",
            "                 Class     Images  Instances      Box(P          R      mAP50  mAP50-95): 100%|██████████| 9/9 [00:18<00:00,  2.00s/it]"
          ]
        },
        {
          "output_type": "stream",
          "name": "stdout",
          "text": [
            "                   all        272        165          0          0          0          0\n"
          ]
        },
        {
          "output_type": "stream",
          "name": "stderr",
          "text": [
            "\n"
          ]
        },
        {
          "output_type": "stream",
          "name": "stdout",
          "text": [
            "\n",
            "      Epoch    GPU_mem   box_loss   cls_loss   dfl_loss  Instances       Size\n"
          ]
        },
        {
          "output_type": "stream",
          "name": "stderr",
          "text": [
            "      2/100      3.34G     0.9498      5.179      1.157         19        640: 100%|██████████| 17/17 [00:31<00:00,  1.87s/it]\n",
            "                 Class     Images  Instances      Box(P          R      mAP50  mAP50-95): 100%|██████████| 9/9 [00:20<00:00,  2.28s/it]"
          ]
        },
        {
          "output_type": "stream",
          "name": "stdout",
          "text": [
            "                   all        272        165          0          0          0          0\n"
          ]
        },
        {
          "output_type": "stream",
          "name": "stderr",
          "text": [
            "\n"
          ]
        },
        {
          "output_type": "stream",
          "name": "stdout",
          "text": [
            "\n",
            "      Epoch    GPU_mem   box_loss   cls_loss   dfl_loss  Instances       Size\n"
          ]
        },
        {
          "output_type": "stream",
          "name": "stderr",
          "text": [
            "      3/100      3.36G     0.9191      4.736      1.069         21        640: 100%|██████████| 17/17 [00:30<00:00,  1.79s/it]\n",
            "                 Class     Images  Instances      Box(P          R      mAP50  mAP50-95): 100%|██████████| 9/9 [00:18<00:00,  2.07s/it]"
          ]
        },
        {
          "output_type": "stream",
          "name": "stdout",
          "text": [
            "                   all        272        165     0.0405      0.591        0.2      0.171\n"
          ]
        },
        {
          "output_type": "stream",
          "name": "stderr",
          "text": [
            "\n"
          ]
        },
        {
          "output_type": "stream",
          "name": "stdout",
          "text": [
            "\n",
            "      Epoch    GPU_mem   box_loss   cls_loss   dfl_loss  Instances       Size\n"
          ]
        },
        {
          "output_type": "stream",
          "name": "stderr",
          "text": [
            "      4/100      3.36G     0.9461      4.396      1.059         21        640: 100%|██████████| 17/17 [00:30<00:00,  1.81s/it]\n",
            "                 Class     Images  Instances      Box(P          R      mAP50  mAP50-95): 100%|██████████| 9/9 [00:20<00:00,  2.27s/it]"
          ]
        },
        {
          "output_type": "stream",
          "name": "stdout",
          "text": [
            "                   all        272        165     0.0503      0.636      0.261      0.212\n"
          ]
        },
        {
          "output_type": "stream",
          "name": "stderr",
          "text": [
            "\n"
          ]
        },
        {
          "output_type": "stream",
          "name": "stdout",
          "text": [
            "\n",
            "      Epoch    GPU_mem   box_loss   cls_loss   dfl_loss  Instances       Size\n"
          ]
        },
        {
          "output_type": "stream",
          "name": "stderr",
          "text": [
            "      5/100      3.36G      0.939       4.17      1.073         16        640: 100%|██████████| 17/17 [00:30<00:00,  1.78s/it]\n",
            "                 Class     Images  Instances      Box(P          R      mAP50  mAP50-95): 100%|██████████| 9/9 [00:18<00:00,  2.08s/it]"
          ]
        },
        {
          "output_type": "stream",
          "name": "stdout",
          "text": [
            "                   all        272        165     0.0531      0.818      0.441      0.356\n"
          ]
        },
        {
          "output_type": "stream",
          "name": "stderr",
          "text": [
            "\n"
          ]
        },
        {
          "output_type": "stream",
          "name": "stdout",
          "text": [
            "\n",
            "      Epoch    GPU_mem   box_loss   cls_loss   dfl_loss  Instances       Size\n"
          ]
        },
        {
          "output_type": "stream",
          "name": "stderr",
          "text": [
            "      6/100      3.38G     0.9193      3.921      1.043         14        640: 100%|██████████| 17/17 [00:29<00:00,  1.74s/it]\n",
            "                 Class     Images  Instances      Box(P          R      mAP50  mAP50-95): 100%|██████████| 9/9 [00:19<00:00,  2.19s/it]"
          ]
        },
        {
          "output_type": "stream",
          "name": "stdout",
          "text": [
            "                   all        272        165      0.918      0.182      0.402      0.334\n"
          ]
        },
        {
          "output_type": "stream",
          "name": "stderr",
          "text": [
            "\n"
          ]
        },
        {
          "output_type": "stream",
          "name": "stdout",
          "text": [
            "\n",
            "      Epoch    GPU_mem   box_loss   cls_loss   dfl_loss  Instances       Size\n"
          ]
        },
        {
          "output_type": "stream",
          "name": "stderr",
          "text": [
            "      7/100      3.39G     0.8978      3.956      1.058         16        640: 100%|██████████| 17/17 [00:29<00:00,  1.73s/it]\n",
            "                 Class     Images  Instances      Box(P          R      mAP50  mAP50-95): 100%|██████████| 9/9 [00:17<00:00,  1.91s/it]"
          ]
        },
        {
          "output_type": "stream",
          "name": "stdout",
          "text": [
            "                   all        272        165      0.711      0.414      0.623      0.531\n"
          ]
        },
        {
          "output_type": "stream",
          "name": "stderr",
          "text": [
            "\n"
          ]
        },
        {
          "output_type": "stream",
          "name": "stdout",
          "text": [
            "\n",
            "      Epoch    GPU_mem   box_loss   cls_loss   dfl_loss  Instances       Size\n"
          ]
        },
        {
          "output_type": "stream",
          "name": "stderr",
          "text": [
            "      8/100      3.41G     0.8578      3.485      1.021         15        640: 100%|██████████| 17/17 [00:28<00:00,  1.68s/it]\n",
            "                 Class     Images  Instances      Box(P          R      mAP50  mAP50-95): 100%|██████████| 9/9 [00:19<00:00,  2.14s/it]"
          ]
        },
        {
          "output_type": "stream",
          "name": "stdout",
          "text": [
            "                   all        272        165      0.567      0.754      0.665      0.572\n"
          ]
        },
        {
          "output_type": "stream",
          "name": "stderr",
          "text": [
            "\n"
          ]
        },
        {
          "output_type": "stream",
          "name": "stdout",
          "text": [
            "\n",
            "      Epoch    GPU_mem   box_loss   cls_loss   dfl_loss  Instances       Size\n"
          ]
        },
        {
          "output_type": "stream",
          "name": "stderr",
          "text": [
            "      9/100      3.42G     0.8433       3.17      1.053         15        640: 100%|██████████| 17/17 [00:28<00:00,  1.69s/it]\n",
            "                 Class     Images  Instances      Box(P          R      mAP50  mAP50-95): 100%|██████████| 9/9 [00:19<00:00,  2.12s/it]"
          ]
        },
        {
          "output_type": "stream",
          "name": "stdout",
          "text": [
            "                   all        272        165       0.64      0.691      0.694        0.6\n"
          ]
        },
        {
          "output_type": "stream",
          "name": "stderr",
          "text": [
            "\n"
          ]
        },
        {
          "output_type": "stream",
          "name": "stdout",
          "text": [
            "\n",
            "      Epoch    GPU_mem   box_loss   cls_loss   dfl_loss  Instances       Size\n"
          ]
        },
        {
          "output_type": "stream",
          "name": "stderr",
          "text": [
            "     10/100      3.44G     0.8322      2.966      1.008         25        640: 100%|██████████| 17/17 [00:30<00:00,  1.81s/it]\n",
            "                 Class     Images  Instances      Box(P          R      mAP50  mAP50-95): 100%|██████████| 9/9 [00:20<00:00,  2.27s/it]"
          ]
        },
        {
          "output_type": "stream",
          "name": "stdout",
          "text": [
            "                   all        272        165      0.633      0.718      0.674      0.573\n"
          ]
        },
        {
          "output_type": "stream",
          "name": "stderr",
          "text": [
            "\n"
          ]
        },
        {
          "output_type": "stream",
          "name": "stdout",
          "text": [
            "\n",
            "      Epoch    GPU_mem   box_loss   cls_loss   dfl_loss  Instances       Size\n"
          ]
        },
        {
          "output_type": "stream",
          "name": "stderr",
          "text": [
            "     11/100      3.44G     0.7785      2.845     0.9871         17        640: 100%|██████████| 17/17 [00:29<00:00,  1.72s/it]\n",
            "                 Class     Images  Instances      Box(P          R      mAP50  mAP50-95): 100%|██████████| 9/9 [00:19<00:00,  2.11s/it]"
          ]
        },
        {
          "output_type": "stream",
          "name": "stdout",
          "text": [
            "                   all        272        165      0.519      0.864      0.674      0.612\n"
          ]
        },
        {
          "output_type": "stream",
          "name": "stderr",
          "text": [
            "\n"
          ]
        },
        {
          "output_type": "stream",
          "name": "stdout",
          "text": [
            "\n",
            "      Epoch    GPU_mem   box_loss   cls_loss   dfl_loss  Instances       Size\n"
          ]
        },
        {
          "output_type": "stream",
          "name": "stderr",
          "text": [
            "     12/100      3.44G      0.764      2.898      0.972         25        640: 100%|██████████| 17/17 [00:27<00:00,  1.62s/it]\n",
            "                 Class     Images  Instances      Box(P          R      mAP50  mAP50-95): 100%|██████████| 9/9 [00:21<00:00,  2.39s/it]"
          ]
        },
        {
          "output_type": "stream",
          "name": "stdout",
          "text": [
            "                   all        272        165      0.495      0.909      0.738      0.666\n"
          ]
        },
        {
          "output_type": "stream",
          "name": "stderr",
          "text": [
            "\n"
          ]
        },
        {
          "output_type": "stream",
          "name": "stdout",
          "text": [
            "\n",
            "      Epoch    GPU_mem   box_loss   cls_loss   dfl_loss  Instances       Size\n"
          ]
        },
        {
          "output_type": "stream",
          "name": "stderr",
          "text": [
            "     13/100      3.44G     0.7664      2.838     0.9949         19        640: 100%|██████████| 17/17 [00:30<00:00,  1.82s/it]\n",
            "                 Class     Images  Instances      Box(P          R      mAP50  mAP50-95): 100%|██████████| 9/9 [00:18<00:00,  2.10s/it]"
          ]
        },
        {
          "output_type": "stream",
          "name": "stdout",
          "text": [
            "                   all        272        165       0.52      0.946      0.713      0.629\n"
          ]
        },
        {
          "output_type": "stream",
          "name": "stderr",
          "text": [
            "\n"
          ]
        },
        {
          "output_type": "stream",
          "name": "stdout",
          "text": [
            "\n",
            "      Epoch    GPU_mem   box_loss   cls_loss   dfl_loss  Instances       Size\n"
          ]
        },
        {
          "output_type": "stream",
          "name": "stderr",
          "text": [
            "     14/100      3.44G     0.7136      2.629      0.946         15        640: 100%|██████████| 17/17 [00:32<00:00,  1.89s/it]\n",
            "                 Class     Images  Instances      Box(P          R      mAP50  mAP50-95): 100%|██████████| 9/9 [00:17<00:00,  1.90s/it]"
          ]
        },
        {
          "output_type": "stream",
          "name": "stdout",
          "text": [
            "                   all        272        165      0.545      0.961      0.708      0.636\n"
          ]
        },
        {
          "output_type": "stream",
          "name": "stderr",
          "text": [
            "\n"
          ]
        },
        {
          "output_type": "stream",
          "name": "stdout",
          "text": [
            "\n",
            "      Epoch    GPU_mem   box_loss   cls_loss   dfl_loss  Instances       Size\n"
          ]
        },
        {
          "output_type": "stream",
          "name": "stderr",
          "text": [
            "     15/100      3.44G     0.7013      2.639     0.9568         19        640: 100%|██████████| 17/17 [00:30<00:00,  1.80s/it]\n",
            "                 Class     Images  Instances      Box(P          R      mAP50  mAP50-95): 100%|██████████| 9/9 [00:19<00:00,  2.22s/it]"
          ]
        },
        {
          "output_type": "stream",
          "name": "stdout",
          "text": [
            "                   all        272        165      0.515      0.936      0.745      0.677\n"
          ]
        },
        {
          "output_type": "stream",
          "name": "stderr",
          "text": [
            "\n"
          ]
        },
        {
          "output_type": "stream",
          "name": "stdout",
          "text": [
            "\n",
            "      Epoch    GPU_mem   box_loss   cls_loss   dfl_loss  Instances       Size\n"
          ]
        },
        {
          "output_type": "stream",
          "name": "stderr",
          "text": [
            "     16/100      3.44G     0.7179      2.477     0.9429         23        640: 100%|██████████| 17/17 [00:30<00:00,  1.82s/it]\n",
            "                 Class     Images  Instances      Box(P          R      mAP50  mAP50-95): 100%|██████████| 9/9 [00:18<00:00,  2.06s/it]"
          ]
        },
        {
          "output_type": "stream",
          "name": "stdout",
          "text": [
            "                   all        272        165      0.594       0.94      0.743      0.676\n"
          ]
        },
        {
          "output_type": "stream",
          "name": "stderr",
          "text": [
            "\n"
          ]
        },
        {
          "output_type": "stream",
          "name": "stdout",
          "text": [
            "\n",
            "      Epoch    GPU_mem   box_loss   cls_loss   dfl_loss  Instances       Size\n"
          ]
        },
        {
          "output_type": "stream",
          "name": "stderr",
          "text": [
            "     17/100      3.44G     0.6864       2.54     0.9385         22        640: 100%|██████████| 17/17 [00:28<00:00,  1.68s/it]\n",
            "                 Class     Images  Instances      Box(P          R      mAP50  mAP50-95): 100%|██████████| 9/9 [00:19<00:00,  2.20s/it]"
          ]
        },
        {
          "output_type": "stream",
          "name": "stdout",
          "text": [
            "                   all        272        165      0.565      0.909      0.762      0.702\n"
          ]
        },
        {
          "output_type": "stream",
          "name": "stderr",
          "text": [
            "\n"
          ]
        },
        {
          "output_type": "stream",
          "name": "stdout",
          "text": [
            "\n",
            "      Epoch    GPU_mem   box_loss   cls_loss   dfl_loss  Instances       Size\n"
          ]
        },
        {
          "output_type": "stream",
          "name": "stderr",
          "text": [
            "     18/100      3.44G     0.7203      2.735      0.981          7        640: 100%|██████████| 17/17 [00:28<00:00,  1.68s/it]\n",
            "                 Class     Images  Instances      Box(P          R      mAP50  mAP50-95): 100%|██████████| 9/9 [00:17<00:00,  1.98s/it]"
          ]
        },
        {
          "output_type": "stream",
          "name": "stdout",
          "text": [
            "                   all        272        165      0.546          1      0.736      0.679\n"
          ]
        },
        {
          "output_type": "stream",
          "name": "stderr",
          "text": [
            "\n"
          ]
        },
        {
          "output_type": "stream",
          "name": "stdout",
          "text": [
            "\n",
            "      Epoch    GPU_mem   box_loss   cls_loss   dfl_loss  Instances       Size\n"
          ]
        },
        {
          "output_type": "stream",
          "name": "stderr",
          "text": [
            "     19/100      3.44G     0.6787      2.541     0.9346         16        640: 100%|██████████| 17/17 [00:28<00:00,  1.66s/it]\n",
            "                 Class     Images  Instances      Box(P          R      mAP50  mAP50-95): 100%|██████████| 9/9 [00:18<00:00,  2.08s/it]"
          ]
        },
        {
          "output_type": "stream",
          "name": "stdout",
          "text": [
            "                   all        272        165      0.547      0.955      0.704      0.653\n"
          ]
        },
        {
          "output_type": "stream",
          "name": "stderr",
          "text": [
            "\n"
          ]
        },
        {
          "output_type": "stream",
          "name": "stdout",
          "text": [
            "\n",
            "      Epoch    GPU_mem   box_loss   cls_loss   dfl_loss  Instances       Size\n"
          ]
        },
        {
          "output_type": "stream",
          "name": "stderr",
          "text": [
            "     20/100      3.44G      0.685      2.527     0.9485         17        640: 100%|██████████| 17/17 [00:29<00:00,  1.76s/it]\n",
            "                 Class     Images  Instances      Box(P          R      mAP50  mAP50-95): 100%|██████████| 9/9 [00:18<00:00,  2.04s/it]"
          ]
        },
        {
          "output_type": "stream",
          "name": "stdout",
          "text": [
            "                   all        272        165      0.611      0.909      0.734      0.668\n"
          ]
        },
        {
          "output_type": "stream",
          "name": "stderr",
          "text": [
            "\n"
          ]
        },
        {
          "output_type": "stream",
          "name": "stdout",
          "text": [
            "\n",
            "      Epoch    GPU_mem   box_loss   cls_loss   dfl_loss  Instances       Size\n"
          ]
        },
        {
          "output_type": "stream",
          "name": "stderr",
          "text": [
            "     21/100      3.44G     0.6527      2.473      0.936         17        640: 100%|██████████| 17/17 [00:26<00:00,  1.58s/it]\n",
            "                 Class     Images  Instances      Box(P          R      mAP50  mAP50-95): 100%|██████████| 9/9 [00:17<00:00,  1.97s/it]"
          ]
        },
        {
          "output_type": "stream",
          "name": "stdout",
          "text": [
            "                   all        272        165      0.591          1      0.749      0.712\n"
          ]
        },
        {
          "output_type": "stream",
          "name": "stderr",
          "text": [
            "\n"
          ]
        },
        {
          "output_type": "stream",
          "name": "stdout",
          "text": [
            "\n",
            "      Epoch    GPU_mem   box_loss   cls_loss   dfl_loss  Instances       Size\n"
          ]
        },
        {
          "output_type": "stream",
          "name": "stderr",
          "text": [
            "     22/100      3.44G     0.6556      2.295     0.9362         22        640: 100%|██████████| 17/17 [00:30<00:00,  1.80s/it]\n",
            "                 Class     Images  Instances      Box(P          R      mAP50  mAP50-95): 100%|██████████| 9/9 [00:20<00:00,  2.23s/it]"
          ]
        },
        {
          "output_type": "stream",
          "name": "stdout",
          "text": [
            "                   all        272        165      0.583          1      0.725      0.682\n"
          ]
        },
        {
          "output_type": "stream",
          "name": "stderr",
          "text": [
            "\n"
          ]
        },
        {
          "output_type": "stream",
          "name": "stdout",
          "text": [
            "\n",
            "      Epoch    GPU_mem   box_loss   cls_loss   dfl_loss  Instances       Size\n"
          ]
        },
        {
          "output_type": "stream",
          "name": "stderr",
          "text": [
            "     23/100      3.44G     0.6271      2.342     0.9361         12        640: 100%|██████████| 17/17 [00:28<00:00,  1.70s/it]\n",
            "                 Class     Images  Instances      Box(P          R      mAP50  mAP50-95): 100%|██████████| 9/9 [00:19<00:00,  2.14s/it]"
          ]
        },
        {
          "output_type": "stream",
          "name": "stdout",
          "text": [
            "                   all        272        165      0.592          1      0.756      0.712\n"
          ]
        },
        {
          "output_type": "stream",
          "name": "stderr",
          "text": [
            "\n"
          ]
        },
        {
          "output_type": "stream",
          "name": "stdout",
          "text": [
            "\n",
            "      Epoch    GPU_mem   box_loss   cls_loss   dfl_loss  Instances       Size\n"
          ]
        },
        {
          "output_type": "stream",
          "name": "stderr",
          "text": [
            "     24/100      3.44G     0.6406      2.308      0.928         15        640: 100%|██████████| 17/17 [00:28<00:00,  1.67s/it]\n",
            "                 Class     Images  Instances      Box(P          R      mAP50  mAP50-95): 100%|██████████| 9/9 [00:20<00:00,  2.33s/it]"
          ]
        },
        {
          "output_type": "stream",
          "name": "stdout",
          "text": [
            "                   all        272        165      0.565      0.982      0.743      0.702\n"
          ]
        },
        {
          "output_type": "stream",
          "name": "stderr",
          "text": [
            "\n"
          ]
        },
        {
          "output_type": "stream",
          "name": "stdout",
          "text": [
            "\n",
            "      Epoch    GPU_mem   box_loss   cls_loss   dfl_loss  Instances       Size\n"
          ]
        },
        {
          "output_type": "stream",
          "name": "stderr",
          "text": [
            "     25/100      3.44G     0.6558      2.212     0.9292         16        640: 100%|██████████| 17/17 [00:30<00:00,  1.82s/it]\n",
            "                 Class     Images  Instances      Box(P          R      mAP50  mAP50-95): 100%|██████████| 9/9 [00:18<00:00,  2.01s/it]"
          ]
        },
        {
          "output_type": "stream",
          "name": "stdout",
          "text": [
            "                   all        272        165       0.59          1      0.749      0.689\n"
          ]
        },
        {
          "output_type": "stream",
          "name": "stderr",
          "text": [
            "\n"
          ]
        },
        {
          "output_type": "stream",
          "name": "stdout",
          "text": [
            "\n",
            "      Epoch    GPU_mem   box_loss   cls_loss   dfl_loss  Instances       Size\n"
          ]
        },
        {
          "output_type": "stream",
          "name": "stderr",
          "text": [
            "     26/100      3.44G     0.6041      2.129     0.8937         16        640: 100%|██████████| 17/17 [00:26<00:00,  1.56s/it]\n",
            "                 Class     Images  Instances      Box(P          R      mAP50  mAP50-95): 100%|██████████| 9/9 [00:19<00:00,  2.13s/it]"
          ]
        },
        {
          "output_type": "stream",
          "name": "stdout",
          "text": [
            "                   all        272        165       0.56          1      0.778      0.727\n"
          ]
        },
        {
          "output_type": "stream",
          "name": "stderr",
          "text": [
            "\n"
          ]
        },
        {
          "output_type": "stream",
          "name": "stdout",
          "text": [
            "\n",
            "      Epoch    GPU_mem   box_loss   cls_loss   dfl_loss  Instances       Size\n"
          ]
        },
        {
          "output_type": "stream",
          "name": "stderr",
          "text": [
            "     27/100      3.44G     0.5323      2.041     0.8844         17        640: 100%|██████████| 17/17 [00:28<00:00,  1.65s/it]\n",
            "                 Class     Images  Instances      Box(P          R      mAP50  mAP50-95): 100%|██████████| 9/9 [00:17<00:00,  1.99s/it]"
          ]
        },
        {
          "output_type": "stream",
          "name": "stdout",
          "text": [
            "                   all        272        165      0.547          1      0.706      0.663\n"
          ]
        },
        {
          "output_type": "stream",
          "name": "stderr",
          "text": [
            "\n"
          ]
        },
        {
          "output_type": "stream",
          "name": "stdout",
          "text": [
            "\n",
            "      Epoch    GPU_mem   box_loss   cls_loss   dfl_loss  Instances       Size\n"
          ]
        },
        {
          "output_type": "stream",
          "name": "stderr",
          "text": [
            "     28/100      3.44G     0.5749      2.096      0.914         16        640: 100%|██████████| 17/17 [00:29<00:00,  1.75s/it]\n",
            "                 Class     Images  Instances      Box(P          R      mAP50  mAP50-95): 100%|██████████| 9/9 [00:18<00:00,  2.00s/it]"
          ]
        },
        {
          "output_type": "stream",
          "name": "stdout",
          "text": [
            "                   all        272        165      0.559          1       0.75      0.697\n"
          ]
        },
        {
          "output_type": "stream",
          "name": "stderr",
          "text": [
            "\n"
          ]
        },
        {
          "output_type": "stream",
          "name": "stdout",
          "text": [
            "\n",
            "      Epoch    GPU_mem   box_loss   cls_loss   dfl_loss  Instances       Size\n"
          ]
        },
        {
          "output_type": "stream",
          "name": "stderr",
          "text": [
            "     29/100      3.44G     0.5662      2.244     0.9213          9        640: 100%|██████████| 17/17 [00:26<00:00,  1.55s/it]\n",
            "                 Class     Images  Instances      Box(P          R      mAP50  mAP50-95): 100%|██████████| 9/9 [00:18<00:00,  2.11s/it]"
          ]
        },
        {
          "output_type": "stream",
          "name": "stdout",
          "text": [
            "                   all        272        165      0.586          1      0.735      0.707\n"
          ]
        },
        {
          "output_type": "stream",
          "name": "stderr",
          "text": [
            "\n"
          ]
        },
        {
          "output_type": "stream",
          "name": "stdout",
          "text": [
            "\n",
            "      Epoch    GPU_mem   box_loss   cls_loss   dfl_loss  Instances       Size\n"
          ]
        },
        {
          "output_type": "stream",
          "name": "stderr",
          "text": [
            "     30/100      3.44G     0.5615      2.114     0.9084         18        640: 100%|██████████| 17/17 [00:31<00:00,  1.84s/it]\n",
            "                 Class     Images  Instances      Box(P          R      mAP50  mAP50-95): 100%|██████████| 9/9 [00:18<00:00,  2.03s/it]"
          ]
        },
        {
          "output_type": "stream",
          "name": "stdout",
          "text": [
            "                   all        272        165      0.559          1      0.763      0.729\n"
          ]
        },
        {
          "output_type": "stream",
          "name": "stderr",
          "text": [
            "\n"
          ]
        },
        {
          "output_type": "stream",
          "name": "stdout",
          "text": [
            "\n",
            "      Epoch    GPU_mem   box_loss   cls_loss   dfl_loss  Instances       Size\n"
          ]
        },
        {
          "output_type": "stream",
          "name": "stderr",
          "text": [
            "     31/100      3.44G     0.6196      2.252     0.9071         22        640: 100%|██████████| 17/17 [00:29<00:00,  1.73s/it]\n",
            "                 Class     Images  Instances      Box(P          R      mAP50  mAP50-95): 100%|██████████| 9/9 [00:19<00:00,  2.21s/it]"
          ]
        },
        {
          "output_type": "stream",
          "name": "stdout",
          "text": [
            "                   all        272        165       0.61      0.955      0.747      0.702\n"
          ]
        },
        {
          "output_type": "stream",
          "name": "stderr",
          "text": [
            "\n"
          ]
        },
        {
          "output_type": "stream",
          "name": "stdout",
          "text": [
            "\n",
            "      Epoch    GPU_mem   box_loss   cls_loss   dfl_loss  Instances       Size\n"
          ]
        },
        {
          "output_type": "stream",
          "name": "stderr",
          "text": [
            "     32/100      3.44G     0.5593      1.988     0.8998         18        640: 100%|██████████| 17/17 [00:30<00:00,  1.82s/it]\n",
            "                 Class     Images  Instances      Box(P          R      mAP50  mAP50-95): 100%|██████████| 9/9 [00:19<00:00,  2.22s/it]"
          ]
        },
        {
          "output_type": "stream",
          "name": "stdout",
          "text": [
            "                   all        272        165       0.58          1      0.742       0.72\n"
          ]
        },
        {
          "output_type": "stream",
          "name": "stderr",
          "text": [
            "\n"
          ]
        },
        {
          "output_type": "stream",
          "name": "stdout",
          "text": [
            "\n",
            "      Epoch    GPU_mem   box_loss   cls_loss   dfl_loss  Instances       Size\n"
          ]
        },
        {
          "output_type": "stream",
          "name": "stderr",
          "text": [
            "     33/100      3.44G     0.5712      1.921     0.9156         22        640: 100%|██████████| 17/17 [00:31<00:00,  1.83s/it]\n",
            "                 Class     Images  Instances      Box(P          R      mAP50  mAP50-95): 100%|██████████| 9/9 [00:18<00:00,  2.10s/it]"
          ]
        },
        {
          "output_type": "stream",
          "name": "stdout",
          "text": [
            "                   all        272        165       0.58          1      0.721       0.69\n"
          ]
        },
        {
          "output_type": "stream",
          "name": "stderr",
          "text": [
            "\n"
          ]
        },
        {
          "output_type": "stream",
          "name": "stdout",
          "text": [
            "\n",
            "      Epoch    GPU_mem   box_loss   cls_loss   dfl_loss  Instances       Size\n"
          ]
        },
        {
          "output_type": "stream",
          "name": "stderr",
          "text": [
            "     34/100      3.44G     0.5391      1.877     0.8922         18        640: 100%|██████████| 17/17 [00:31<00:00,  1.87s/it]\n",
            "                 Class     Images  Instances      Box(P          R      mAP50  mAP50-95): 100%|██████████| 9/9 [00:18<00:00,  2.09s/it]"
          ]
        },
        {
          "output_type": "stream",
          "name": "stdout",
          "text": [
            "                   all        272        165      0.598      0.955      0.724      0.697\n"
          ]
        },
        {
          "output_type": "stream",
          "name": "stderr",
          "text": [
            "\n"
          ]
        },
        {
          "output_type": "stream",
          "name": "stdout",
          "text": [
            "\n",
            "      Epoch    GPU_mem   box_loss   cls_loss   dfl_loss  Instances       Size\n"
          ]
        },
        {
          "output_type": "stream",
          "name": "stderr",
          "text": [
            "     35/100      3.44G     0.4871      1.885     0.8705         23        640: 100%|██████████| 17/17 [00:28<00:00,  1.69s/it]\n",
            "                 Class     Images  Instances      Box(P          R      mAP50  mAP50-95): 100%|██████████| 9/9 [00:18<00:00,  2.07s/it]"
          ]
        },
        {
          "output_type": "stream",
          "name": "stdout",
          "text": [
            "                   all        272        165      0.615      0.942      0.757      0.732\n"
          ]
        },
        {
          "output_type": "stream",
          "name": "stderr",
          "text": [
            "\n"
          ]
        },
        {
          "output_type": "stream",
          "name": "stdout",
          "text": [
            "\n",
            "      Epoch    GPU_mem   box_loss   cls_loss   dfl_loss  Instances       Size\n"
          ]
        },
        {
          "output_type": "stream",
          "name": "stderr",
          "text": [
            "     36/100      3.44G     0.5269      1.829     0.8897         15        640: 100%|██████████| 17/17 [00:28<00:00,  1.65s/it]\n",
            "                 Class     Images  Instances      Box(P          R      mAP50  mAP50-95): 100%|██████████| 9/9 [00:20<00:00,  2.29s/it]"
          ]
        },
        {
          "output_type": "stream",
          "name": "stdout",
          "text": [
            "                   all        272        165       0.59          1      0.768       0.75\n"
          ]
        },
        {
          "output_type": "stream",
          "name": "stderr",
          "text": [
            "\n"
          ]
        },
        {
          "output_type": "stream",
          "name": "stdout",
          "text": [
            "\n",
            "      Epoch    GPU_mem   box_loss   cls_loss   dfl_loss  Instances       Size\n"
          ]
        },
        {
          "output_type": "stream",
          "name": "stderr",
          "text": [
            "     37/100      3.44G     0.5143      1.937     0.8883         14        640: 100%|██████████| 17/17 [00:29<00:00,  1.72s/it]\n",
            "                 Class     Images  Instances      Box(P          R      mAP50  mAP50-95): 100%|██████████| 9/9 [00:18<00:00,  2.11s/it]"
          ]
        },
        {
          "output_type": "stream",
          "name": "stdout",
          "text": [
            "                   all        272        165      0.594          1       0.77      0.747\n"
          ]
        },
        {
          "output_type": "stream",
          "name": "stderr",
          "text": [
            "\n"
          ]
        },
        {
          "output_type": "stream",
          "name": "stdout",
          "text": [
            "\n",
            "      Epoch    GPU_mem   box_loss   cls_loss   dfl_loss  Instances       Size\n"
          ]
        },
        {
          "output_type": "stream",
          "name": "stderr",
          "text": [
            "     38/100      3.44G     0.5117      1.928     0.8638         10        640: 100%|██████████| 17/17 [00:31<00:00,  1.88s/it]\n",
            "                 Class     Images  Instances      Box(P          R      mAP50  mAP50-95): 100%|██████████| 9/9 [00:18<00:00,  2.10s/it]"
          ]
        },
        {
          "output_type": "stream",
          "name": "stdout",
          "text": [
            "                   all        272        165      0.591          1      0.742      0.718\n"
          ]
        },
        {
          "output_type": "stream",
          "name": "stderr",
          "text": [
            "\n"
          ]
        },
        {
          "output_type": "stream",
          "name": "stdout",
          "text": [
            "\n",
            "      Epoch    GPU_mem   box_loss   cls_loss   dfl_loss  Instances       Size\n"
          ]
        },
        {
          "output_type": "stream",
          "name": "stderr",
          "text": [
            "     39/100      3.44G      0.484      1.823     0.8643         26        640: 100%|██████████| 17/17 [00:28<00:00,  1.66s/it]\n",
            "                 Class     Images  Instances      Box(P          R      mAP50  mAP50-95): 100%|██████████| 9/9 [00:18<00:00,  2.06s/it]"
          ]
        },
        {
          "output_type": "stream",
          "name": "stdout",
          "text": [
            "                   all        272        165      0.598          1      0.703      0.682\n"
          ]
        },
        {
          "output_type": "stream",
          "name": "stderr",
          "text": [
            "\n"
          ]
        },
        {
          "output_type": "stream",
          "name": "stdout",
          "text": [
            "\n",
            "      Epoch    GPU_mem   box_loss   cls_loss   dfl_loss  Instances       Size\n"
          ]
        },
        {
          "output_type": "stream",
          "name": "stderr",
          "text": [
            "     40/100      3.44G     0.4838       1.69     0.8798         17        640: 100%|██████████| 17/17 [00:33<00:00,  1.94s/it]\n",
            "                 Class     Images  Instances      Box(P          R      mAP50  mAP50-95): 100%|██████████| 9/9 [00:18<00:00,  2.03s/it]"
          ]
        },
        {
          "output_type": "stream",
          "name": "stdout",
          "text": [
            "                   all        272        165      0.604          1      0.742      0.711\n"
          ]
        },
        {
          "output_type": "stream",
          "name": "stderr",
          "text": [
            "\n"
          ]
        },
        {
          "output_type": "stream",
          "name": "stdout",
          "text": [
            "\n",
            "      Epoch    GPU_mem   box_loss   cls_loss   dfl_loss  Instances       Size\n"
          ]
        },
        {
          "output_type": "stream",
          "name": "stderr",
          "text": [
            "     41/100      3.44G     0.4947      1.797     0.8667         17        640: 100%|██████████| 17/17 [00:31<00:00,  1.86s/it]\n",
            "                 Class     Images  Instances      Box(P          R      mAP50  mAP50-95): 100%|██████████| 9/9 [00:20<00:00,  2.26s/it]"
          ]
        },
        {
          "output_type": "stream",
          "name": "stdout",
          "text": [
            "                   all        272        165      0.597          1      0.729      0.705\n"
          ]
        },
        {
          "output_type": "stream",
          "name": "stderr",
          "text": [
            "\n"
          ]
        },
        {
          "output_type": "stream",
          "name": "stdout",
          "text": [
            "\n",
            "      Epoch    GPU_mem   box_loss   cls_loss   dfl_loss  Instances       Size\n"
          ]
        },
        {
          "output_type": "stream",
          "name": "stderr",
          "text": [
            "     42/100      3.44G     0.4824      1.783     0.8682         15        640: 100%|██████████| 17/17 [00:29<00:00,  1.73s/it]\n",
            "                 Class     Images  Instances      Box(P          R      mAP50  mAP50-95): 100%|██████████| 9/9 [00:18<00:00,  2.06s/it]"
          ]
        },
        {
          "output_type": "stream",
          "name": "stdout",
          "text": [
            "                   all        272        165      0.601          1      0.719      0.708\n"
          ]
        },
        {
          "output_type": "stream",
          "name": "stderr",
          "text": [
            "\n"
          ]
        },
        {
          "output_type": "stream",
          "name": "stdout",
          "text": [
            "\n",
            "      Epoch    GPU_mem   box_loss   cls_loss   dfl_loss  Instances       Size\n"
          ]
        },
        {
          "output_type": "stream",
          "name": "stderr",
          "text": [
            "     43/100      3.44G     0.4493      1.753     0.8596         13        640: 100%|██████████| 17/17 [00:28<00:00,  1.68s/it]\n",
            "                 Class     Images  Instances      Box(P          R      mAP50  mAP50-95): 100%|██████████| 9/9 [00:20<00:00,  2.24s/it]"
          ]
        },
        {
          "output_type": "stream",
          "name": "stdout",
          "text": [
            "                   all        272        165      0.583          1      0.744      0.739\n"
          ]
        },
        {
          "output_type": "stream",
          "name": "stderr",
          "text": [
            "\n"
          ]
        },
        {
          "output_type": "stream",
          "name": "stdout",
          "text": [
            "\n",
            "      Epoch    GPU_mem   box_loss   cls_loss   dfl_loss  Instances       Size\n"
          ]
        },
        {
          "output_type": "stream",
          "name": "stderr",
          "text": [
            "     44/100      3.44G     0.4296      1.724     0.8541         14        640: 100%|██████████| 17/17 [00:28<00:00,  1.68s/it]\n",
            "                 Class     Images  Instances      Box(P          R      mAP50  mAP50-95): 100%|██████████| 9/9 [00:18<00:00,  2.09s/it]"
          ]
        },
        {
          "output_type": "stream",
          "name": "stdout",
          "text": [
            "                   all        272        165      0.584          1      0.773      0.756\n"
          ]
        },
        {
          "output_type": "stream",
          "name": "stderr",
          "text": [
            "\n"
          ]
        },
        {
          "output_type": "stream",
          "name": "stdout",
          "text": [
            "\n",
            "      Epoch    GPU_mem   box_loss   cls_loss   dfl_loss  Instances       Size\n"
          ]
        },
        {
          "output_type": "stream",
          "name": "stderr",
          "text": [
            "     45/100      3.44G     0.5131      1.838     0.8995         19        640: 100%|██████████| 17/17 [00:27<00:00,  1.62s/it]\n",
            "                 Class     Images  Instances      Box(P          R      mAP50  mAP50-95): 100%|██████████| 9/9 [00:19<00:00,  2.12s/it]"
          ]
        },
        {
          "output_type": "stream",
          "name": "stdout",
          "text": [
            "                   all        272        165      0.594          1      0.758      0.754\n"
          ]
        },
        {
          "output_type": "stream",
          "name": "stderr",
          "text": [
            "\n"
          ]
        },
        {
          "output_type": "stream",
          "name": "stdout",
          "text": [
            "\n",
            "      Epoch    GPU_mem   box_loss   cls_loss   dfl_loss  Instances       Size\n"
          ]
        },
        {
          "output_type": "stream",
          "name": "stderr",
          "text": [
            "     46/100      3.44G     0.4447      1.722     0.8491         15        640: 100%|██████████| 17/17 [00:26<00:00,  1.56s/it]\n",
            "                 Class     Images  Instances      Box(P          R      mAP50  mAP50-95): 100%|██████████| 9/9 [00:20<00:00,  2.24s/it]"
          ]
        },
        {
          "output_type": "stream",
          "name": "stdout",
          "text": [
            "                   all        272        165      0.593          1      0.774       0.76\n"
          ]
        },
        {
          "output_type": "stream",
          "name": "stderr",
          "text": [
            "\n"
          ]
        },
        {
          "output_type": "stream",
          "name": "stdout",
          "text": [
            "\n",
            "      Epoch    GPU_mem   box_loss   cls_loss   dfl_loss  Instances       Size\n"
          ]
        },
        {
          "output_type": "stream",
          "name": "stderr",
          "text": [
            "     47/100      3.44G      0.466      1.801     0.8602         16        640: 100%|██████████| 17/17 [00:26<00:00,  1.55s/it]\n",
            "                 Class     Images  Instances      Box(P          R      mAP50  mAP50-95): 100%|██████████| 9/9 [00:16<00:00,  1.89s/it]"
          ]
        },
        {
          "output_type": "stream",
          "name": "stdout",
          "text": [
            "                   all        272        165      0.595          1      0.761       0.74\n"
          ]
        },
        {
          "output_type": "stream",
          "name": "stderr",
          "text": [
            "\n"
          ]
        },
        {
          "output_type": "stream",
          "name": "stdout",
          "text": [
            "\n",
            "      Epoch    GPU_mem   box_loss   cls_loss   dfl_loss  Instances       Size\n"
          ]
        },
        {
          "output_type": "stream",
          "name": "stderr",
          "text": [
            "     48/100      3.44G     0.5154      1.786     0.9101         19        640: 100%|██████████| 17/17 [00:27<00:00,  1.64s/it]\n",
            "                 Class     Images  Instances      Box(P          R      mAP50  mAP50-95): 100%|██████████| 9/9 [00:17<00:00,  1.91s/it]"
          ]
        },
        {
          "output_type": "stream",
          "name": "stdout",
          "text": [
            "                   all        272        165      0.596          1      0.729      0.709\n"
          ]
        },
        {
          "output_type": "stream",
          "name": "stderr",
          "text": [
            "\n"
          ]
        },
        {
          "output_type": "stream",
          "name": "stdout",
          "text": [
            "\n",
            "      Epoch    GPU_mem   box_loss   cls_loss   dfl_loss  Instances       Size\n"
          ]
        },
        {
          "output_type": "stream",
          "name": "stderr",
          "text": [
            "     49/100      3.44G     0.4153      1.649      0.851         16        640: 100%|██████████| 17/17 [00:27<00:00,  1.61s/it]\n",
            "                 Class     Images  Instances      Box(P          R      mAP50  mAP50-95): 100%|██████████| 9/9 [00:19<00:00,  2.17s/it]"
          ]
        },
        {
          "output_type": "stream",
          "name": "stdout",
          "text": [
            "                   all        272        165      0.592          1      0.759       0.75\n"
          ]
        },
        {
          "output_type": "stream",
          "name": "stderr",
          "text": [
            "\n"
          ]
        },
        {
          "output_type": "stream",
          "name": "stdout",
          "text": [
            "\n",
            "      Epoch    GPU_mem   box_loss   cls_loss   dfl_loss  Instances       Size\n"
          ]
        },
        {
          "output_type": "stream",
          "name": "stderr",
          "text": [
            "     50/100      3.44G     0.4222      1.691     0.8436         15        640: 100%|██████████| 17/17 [00:28<00:00,  1.66s/it]\n",
            "                 Class     Images  Instances      Box(P          R      mAP50  mAP50-95): 100%|██████████| 9/9 [00:17<00:00,  1.93s/it]"
          ]
        },
        {
          "output_type": "stream",
          "name": "stdout",
          "text": [
            "                   all        272        165      0.593          1      0.742      0.734\n"
          ]
        },
        {
          "output_type": "stream",
          "name": "stderr",
          "text": [
            "\n"
          ]
        },
        {
          "output_type": "stream",
          "name": "stdout",
          "text": [
            "\n",
            "      Epoch    GPU_mem   box_loss   cls_loss   dfl_loss  Instances       Size\n"
          ]
        },
        {
          "output_type": "stream",
          "name": "stderr",
          "text": [
            "     51/100      3.44G     0.4356      1.719      0.865         15        640: 100%|██████████| 17/17 [00:30<00:00,  1.77s/it]\n",
            "                 Class     Images  Instances      Box(P          R      mAP50  mAP50-95): 100%|██████████| 9/9 [00:20<00:00,  2.23s/it]"
          ]
        },
        {
          "output_type": "stream",
          "name": "stdout",
          "text": [
            "                   all        272        165      0.594          1      0.743      0.732\n"
          ]
        },
        {
          "output_type": "stream",
          "name": "stderr",
          "text": [
            "\n"
          ]
        },
        {
          "output_type": "stream",
          "name": "stdout",
          "text": [
            "\n",
            "      Epoch    GPU_mem   box_loss   cls_loss   dfl_loss  Instances       Size\n"
          ]
        },
        {
          "output_type": "stream",
          "name": "stderr",
          "text": [
            "     52/100      3.44G     0.4784      1.704     0.8632         14        640: 100%|██████████| 17/17 [00:29<00:00,  1.74s/it]\n",
            "                 Class     Images  Instances      Box(P          R      mAP50  mAP50-95): 100%|██████████| 9/9 [00:18<00:00,  2.03s/it]"
          ]
        },
        {
          "output_type": "stream",
          "name": "stdout",
          "text": [
            "                   all        272        165      0.598      0.985      0.752      0.736\n"
          ]
        },
        {
          "output_type": "stream",
          "name": "stderr",
          "text": [
            "\n"
          ]
        },
        {
          "output_type": "stream",
          "name": "stdout",
          "text": [
            "\n",
            "      Epoch    GPU_mem   box_loss   cls_loss   dfl_loss  Instances       Size\n"
          ]
        },
        {
          "output_type": "stream",
          "name": "stderr",
          "text": [
            "     53/100      3.44G     0.4686      1.688     0.8878         15        640: 100%|██████████| 17/17 [00:29<00:00,  1.76s/it]\n",
            "                 Class     Images  Instances      Box(P          R      mAP50  mAP50-95): 100%|██████████| 9/9 [00:20<00:00,  2.26s/it]"
          ]
        },
        {
          "output_type": "stream",
          "name": "stdout",
          "text": [
            "                   all        272        165      0.603      0.987      0.764      0.753\n"
          ]
        },
        {
          "output_type": "stream",
          "name": "stderr",
          "text": [
            "\n"
          ]
        },
        {
          "output_type": "stream",
          "name": "stdout",
          "text": [
            "\n",
            "      Epoch    GPU_mem   box_loss   cls_loss   dfl_loss  Instances       Size\n"
          ]
        },
        {
          "output_type": "stream",
          "name": "stderr",
          "text": [
            "     54/100      3.44G     0.4996      1.646     0.8751         17        640: 100%|██████████| 17/17 [00:26<00:00,  1.55s/it]\n",
            "                 Class     Images  Instances      Box(P          R      mAP50  mAP50-95): 100%|██████████| 9/9 [00:17<00:00,  1.95s/it]"
          ]
        },
        {
          "output_type": "stream",
          "name": "stdout",
          "text": [
            "                   all        272        165      0.578          1      0.752      0.726\n"
          ]
        },
        {
          "output_type": "stream",
          "name": "stderr",
          "text": [
            "\n"
          ]
        },
        {
          "output_type": "stream",
          "name": "stdout",
          "text": [
            "\n",
            "      Epoch    GPU_mem   box_loss   cls_loss   dfl_loss  Instances       Size\n"
          ]
        },
        {
          "output_type": "stream",
          "name": "stderr",
          "text": [
            "     55/100      3.44G     0.4417      1.617     0.8611         23        640: 100%|██████████| 17/17 [00:29<00:00,  1.73s/it]\n",
            "                 Class     Images  Instances      Box(P          R      mAP50  mAP50-95): 100%|██████████| 9/9 [00:17<00:00,  1.90s/it]"
          ]
        },
        {
          "output_type": "stream",
          "name": "stdout",
          "text": [
            "                   all        272        165      0.578          1      0.736      0.721\n"
          ]
        },
        {
          "output_type": "stream",
          "name": "stderr",
          "text": [
            "\n"
          ]
        },
        {
          "output_type": "stream",
          "name": "stdout",
          "text": [
            "\n",
            "      Epoch    GPU_mem   box_loss   cls_loss   dfl_loss  Instances       Size\n"
          ]
        },
        {
          "output_type": "stream",
          "name": "stderr",
          "text": [
            "     56/100      3.44G     0.4213      1.558     0.8579         16        640: 100%|██████████| 17/17 [00:29<00:00,  1.75s/it]\n",
            "                 Class     Images  Instances      Box(P          R      mAP50  mAP50-95): 100%|██████████| 9/9 [00:18<00:00,  2.09s/it]"
          ]
        },
        {
          "output_type": "stream",
          "name": "stdout",
          "text": [
            "                   all        272        165      0.605          1      0.736      0.721\n"
          ]
        },
        {
          "output_type": "stream",
          "name": "stderr",
          "text": [
            "\n"
          ]
        },
        {
          "output_type": "stream",
          "name": "stdout",
          "text": [
            "\n",
            "      Epoch    GPU_mem   box_loss   cls_loss   dfl_loss  Instances       Size\n"
          ]
        },
        {
          "output_type": "stream",
          "name": "stderr",
          "text": [
            "     57/100      3.44G     0.4432      1.714     0.8706         15        640: 100%|██████████| 17/17 [00:26<00:00,  1.57s/it]\n",
            "                 Class     Images  Instances      Box(P          R      mAP50  mAP50-95): 100%|██████████| 9/9 [00:17<00:00,  1.93s/it]"
          ]
        },
        {
          "output_type": "stream",
          "name": "stdout",
          "text": [
            "                   all        272        165      0.597          1       0.72      0.717\n"
          ]
        },
        {
          "output_type": "stream",
          "name": "stderr",
          "text": [
            "\n"
          ]
        },
        {
          "output_type": "stream",
          "name": "stdout",
          "text": [
            "\n",
            "      Epoch    GPU_mem   box_loss   cls_loss   dfl_loss  Instances       Size\n"
          ]
        },
        {
          "output_type": "stream",
          "name": "stderr",
          "text": [
            "     58/100      3.44G     0.4268       1.62     0.8812         18        640: 100%|██████████| 17/17 [00:30<00:00,  1.77s/it]\n",
            "                 Class     Images  Instances      Box(P          R      mAP50  mAP50-95): 100%|██████████| 9/9 [00:18<00:00,  2.08s/it]"
          ]
        },
        {
          "output_type": "stream",
          "name": "stdout",
          "text": [
            "                   all        272        165      0.572          1      0.768      0.756\n"
          ]
        },
        {
          "output_type": "stream",
          "name": "stderr",
          "text": [
            "\n"
          ]
        },
        {
          "output_type": "stream",
          "name": "stdout",
          "text": [
            "\n",
            "      Epoch    GPU_mem   box_loss   cls_loss   dfl_loss  Instances       Size\n"
          ]
        },
        {
          "output_type": "stream",
          "name": "stderr",
          "text": [
            "     59/100      3.44G     0.4168      1.631     0.8416         12        640: 100%|██████████| 17/17 [00:28<00:00,  1.66s/it]\n",
            "                 Class     Images  Instances      Box(P          R      mAP50  mAP50-95): 100%|██████████| 9/9 [00:18<00:00,  2.02s/it]"
          ]
        },
        {
          "output_type": "stream",
          "name": "stdout",
          "text": [
            "                   all        272        165      0.594          1      0.734       0.72\n"
          ]
        },
        {
          "output_type": "stream",
          "name": "stderr",
          "text": [
            "\n"
          ]
        },
        {
          "output_type": "stream",
          "name": "stdout",
          "text": [
            "\n",
            "      Epoch    GPU_mem   box_loss   cls_loss   dfl_loss  Instances       Size\n"
          ]
        },
        {
          "output_type": "stream",
          "name": "stderr",
          "text": [
            "     60/100      3.44G     0.4222      1.514      0.857         14        640: 100%|██████████| 17/17 [00:28<00:00,  1.70s/it]\n",
            "                 Class     Images  Instances      Box(P          R      mAP50  mAP50-95): 100%|██████████| 9/9 [00:18<00:00,  2.01s/it]"
          ]
        },
        {
          "output_type": "stream",
          "name": "stdout",
          "text": [
            "                   all        272        165      0.602          1      0.761      0.755\n"
          ]
        },
        {
          "output_type": "stream",
          "name": "stderr",
          "text": [
            "\n"
          ]
        },
        {
          "output_type": "stream",
          "name": "stdout",
          "text": [
            "\n",
            "      Epoch    GPU_mem   box_loss   cls_loss   dfl_loss  Instances       Size\n"
          ]
        },
        {
          "output_type": "stream",
          "name": "stderr",
          "text": [
            "     61/100      3.44G     0.4156      1.431     0.8588         21        640: 100%|██████████| 17/17 [00:30<00:00,  1.79s/it]\n",
            "                 Class     Images  Instances      Box(P          R      mAP50  mAP50-95): 100%|██████████| 9/9 [00:17<00:00,  1.97s/it]"
          ]
        },
        {
          "output_type": "stream",
          "name": "stdout",
          "text": [
            "                   all        272        165      0.583          1      0.745      0.741\n"
          ]
        },
        {
          "output_type": "stream",
          "name": "stderr",
          "text": [
            "\n"
          ]
        },
        {
          "output_type": "stream",
          "name": "stdout",
          "text": [
            "\n",
            "      Epoch    GPU_mem   box_loss   cls_loss   dfl_loss  Instances       Size\n"
          ]
        },
        {
          "output_type": "stream",
          "name": "stderr",
          "text": [
            "     62/100      3.44G     0.4045      1.663     0.8493         20        640: 100%|██████████| 17/17 [00:29<00:00,  1.73s/it]\n",
            "                 Class     Images  Instances      Box(P          R      mAP50  mAP50-95): 100%|██████████| 9/9 [00:20<00:00,  2.24s/it]"
          ]
        },
        {
          "output_type": "stream",
          "name": "stdout",
          "text": [
            "                   all        272        165       0.58          1      0.756      0.751\n"
          ]
        },
        {
          "output_type": "stream",
          "name": "stderr",
          "text": [
            "\n"
          ]
        },
        {
          "output_type": "stream",
          "name": "stdout",
          "text": [
            "\n",
            "      Epoch    GPU_mem   box_loss   cls_loss   dfl_loss  Instances       Size\n"
          ]
        },
        {
          "output_type": "stream",
          "name": "stderr",
          "text": [
            "     63/100      3.44G     0.3691       1.55     0.8415          8        640: 100%|██████████| 17/17 [00:29<00:00,  1.74s/it]\n",
            "                 Class     Images  Instances      Box(P          R      mAP50  mAP50-95): 100%|██████████| 9/9 [00:16<00:00,  1.88s/it]"
          ]
        },
        {
          "output_type": "stream",
          "name": "stdout",
          "text": [
            "                   all        272        165      0.589          1      0.752      0.744\n"
          ]
        },
        {
          "output_type": "stream",
          "name": "stderr",
          "text": [
            "\n"
          ]
        },
        {
          "output_type": "stream",
          "name": "stdout",
          "text": [
            "\n",
            "      Epoch    GPU_mem   box_loss   cls_loss   dfl_loss  Instances       Size\n"
          ]
        },
        {
          "output_type": "stream",
          "name": "stderr",
          "text": [
            "     64/100      3.44G     0.3816      1.527     0.8335         19        640: 100%|██████████| 17/17 [00:27<00:00,  1.60s/it]\n",
            "                 Class     Images  Instances      Box(P          R      mAP50  mAP50-95): 100%|██████████| 9/9 [00:18<00:00,  2.09s/it]"
          ]
        },
        {
          "output_type": "stream",
          "name": "stdout",
          "text": [
            "                   all        272        165      0.598          1      0.736       0.73\n"
          ]
        },
        {
          "output_type": "stream",
          "name": "stderr",
          "text": [
            "\n"
          ]
        },
        {
          "output_type": "stream",
          "name": "stdout",
          "text": [
            "\n",
            "      Epoch    GPU_mem   box_loss   cls_loss   dfl_loss  Instances       Size\n"
          ]
        },
        {
          "output_type": "stream",
          "name": "stderr",
          "text": [
            "     65/100      3.44G     0.3739      1.548     0.8354         14        640: 100%|██████████| 17/17 [00:27<00:00,  1.60s/it]\n",
            "                 Class     Images  Instances      Box(P          R      mAP50  mAP50-95): 100%|██████████| 9/9 [00:18<00:00,  2.10s/it]"
          ]
        },
        {
          "output_type": "stream",
          "name": "stdout",
          "text": [
            "                   all        272        165      0.606      0.987      0.754      0.748\n"
          ]
        },
        {
          "output_type": "stream",
          "name": "stderr",
          "text": [
            "\n"
          ]
        },
        {
          "output_type": "stream",
          "name": "stdout",
          "text": [
            "\n",
            "      Epoch    GPU_mem   box_loss   cls_loss   dfl_loss  Instances       Size\n"
          ]
        },
        {
          "output_type": "stream",
          "name": "stderr",
          "text": [
            "     66/100      3.44G     0.3675      1.507     0.8397         18        640: 100%|██████████| 17/17 [00:25<00:00,  1.49s/it]\n",
            "                 Class     Images  Instances      Box(P          R      mAP50  mAP50-95): 100%|██████████| 9/9 [00:19<00:00,  2.17s/it]"
          ]
        },
        {
          "output_type": "stream",
          "name": "stdout",
          "text": [
            "                   all        272        165      0.598      0.986      0.722      0.713\n"
          ]
        },
        {
          "output_type": "stream",
          "name": "stderr",
          "text": [
            "\n"
          ]
        },
        {
          "output_type": "stream",
          "name": "stdout",
          "text": [
            "\n",
            "      Epoch    GPU_mem   box_loss   cls_loss   dfl_loss  Instances       Size\n"
          ]
        },
        {
          "output_type": "stream",
          "name": "stderr",
          "text": [
            "     67/100      3.44G     0.4044      1.593     0.8671         10        640: 100%|██████████| 17/17 [00:28<00:00,  1.70s/it]\n",
            "                 Class     Images  Instances      Box(P          R      mAP50  mAP50-95): 100%|██████████| 9/9 [00:18<00:00,  2.08s/it]"
          ]
        },
        {
          "output_type": "stream",
          "name": "stdout",
          "text": [
            "                   all        272        165      0.593          1      0.761      0.756\n"
          ]
        },
        {
          "output_type": "stream",
          "name": "stderr",
          "text": [
            "\n"
          ]
        },
        {
          "output_type": "stream",
          "name": "stdout",
          "text": [
            "\n",
            "      Epoch    GPU_mem   box_loss   cls_loss   dfl_loss  Instances       Size\n"
          ]
        },
        {
          "output_type": "stream",
          "name": "stderr",
          "text": [
            "     68/100      3.44G     0.3398      1.411     0.8399         17        640: 100%|██████████| 17/17 [00:32<00:00,  1.90s/it]\n",
            "                 Class     Images  Instances      Box(P          R      mAP50  mAP50-95): 100%|██████████| 9/9 [00:18<00:00,  2.05s/it]"
          ]
        },
        {
          "output_type": "stream",
          "name": "stdout",
          "text": [
            "                   all        272        165      0.592          1      0.764      0.753\n"
          ]
        },
        {
          "output_type": "stream",
          "name": "stderr",
          "text": [
            "\n"
          ]
        },
        {
          "output_type": "stream",
          "name": "stdout",
          "text": [
            "\n",
            "      Epoch    GPU_mem   box_loss   cls_loss   dfl_loss  Instances       Size\n"
          ]
        },
        {
          "output_type": "stream",
          "name": "stderr",
          "text": [
            "     69/100      3.44G     0.3834      1.565     0.8462         15        640: 100%|██████████| 17/17 [00:29<00:00,  1.71s/it]\n",
            "                 Class     Images  Instances      Box(P          R      mAP50  mAP50-95): 100%|██████████| 9/9 [00:17<00:00,  1.99s/it]"
          ]
        },
        {
          "output_type": "stream",
          "name": "stdout",
          "text": [
            "                   all        272        165      0.589          1      0.762      0.757\n"
          ]
        },
        {
          "output_type": "stream",
          "name": "stderr",
          "text": [
            "\n"
          ]
        },
        {
          "output_type": "stream",
          "name": "stdout",
          "text": [
            "\n",
            "      Epoch    GPU_mem   box_loss   cls_loss   dfl_loss  Instances       Size\n"
          ]
        },
        {
          "output_type": "stream",
          "name": "stderr",
          "text": [
            "     70/100      3.44G     0.3686      1.481     0.8383         23        640: 100%|██████████| 17/17 [00:25<00:00,  1.52s/it]\n",
            "                 Class     Images  Instances      Box(P          R      mAP50  mAP50-95): 100%|██████████| 9/9 [00:20<00:00,  2.32s/it]"
          ]
        },
        {
          "output_type": "stream",
          "name": "stdout",
          "text": [
            "                   all        272        165      0.606          1      0.741      0.735\n"
          ]
        },
        {
          "output_type": "stream",
          "name": "stderr",
          "text": [
            "\n"
          ]
        },
        {
          "output_type": "stream",
          "name": "stdout",
          "text": [
            "\n",
            "      Epoch    GPU_mem   box_loss   cls_loss   dfl_loss  Instances       Size\n"
          ]
        },
        {
          "output_type": "stream",
          "name": "stderr",
          "text": [
            "     71/100      3.44G     0.3737      1.477     0.8292         16        640: 100%|██████████| 17/17 [00:28<00:00,  1.68s/it]\n",
            "                 Class     Images  Instances      Box(P          R      mAP50  mAP50-95): 100%|██████████| 9/9 [00:17<00:00,  1.99s/it]"
          ]
        },
        {
          "output_type": "stream",
          "name": "stdout",
          "text": [
            "                   all        272        165      0.597      0.985      0.729      0.719\n"
          ]
        },
        {
          "output_type": "stream",
          "name": "stderr",
          "text": [
            "\n"
          ]
        },
        {
          "output_type": "stream",
          "name": "stdout",
          "text": [
            "\n",
            "      Epoch    GPU_mem   box_loss   cls_loss   dfl_loss  Instances       Size\n"
          ]
        },
        {
          "output_type": "stream",
          "name": "stderr",
          "text": [
            "     72/100      3.44G     0.3275      1.406     0.8344         21        640: 100%|██████████| 17/17 [00:27<00:00,  1.63s/it]\n",
            "                 Class     Images  Instances      Box(P          R      mAP50  mAP50-95): 100%|██████████| 9/9 [00:18<00:00,  2.11s/it]"
          ]
        },
        {
          "output_type": "stream",
          "name": "stdout",
          "text": [
            "                   all        272        165      0.601          1      0.729      0.722\n"
          ]
        },
        {
          "output_type": "stream",
          "name": "stderr",
          "text": [
            "\n"
          ]
        },
        {
          "output_type": "stream",
          "name": "stdout",
          "text": [
            "\n",
            "      Epoch    GPU_mem   box_loss   cls_loss   dfl_loss  Instances       Size\n"
          ]
        },
        {
          "output_type": "stream",
          "name": "stderr",
          "text": [
            "     73/100      3.44G     0.3712      1.404     0.8386         15        640: 100%|██████████| 17/17 [00:29<00:00,  1.73s/it]\n",
            "                 Class     Images  Instances      Box(P          R      mAP50  mAP50-95): 100%|██████████| 9/9 [00:18<00:00,  2.07s/it]"
          ]
        },
        {
          "output_type": "stream",
          "name": "stdout",
          "text": [
            "                   all        272        165      0.607          1       0.74      0.736\n"
          ]
        },
        {
          "output_type": "stream",
          "name": "stderr",
          "text": [
            "\n"
          ]
        },
        {
          "output_type": "stream",
          "name": "stdout",
          "text": [
            "\n",
            "      Epoch    GPU_mem   box_loss   cls_loss   dfl_loss  Instances       Size\n"
          ]
        },
        {
          "output_type": "stream",
          "name": "stderr",
          "text": [
            "     74/100      3.44G     0.3554      1.501     0.8352         10        640: 100%|██████████| 17/17 [00:30<00:00,  1.81s/it]\n",
            "                 Class     Images  Instances      Box(P          R      mAP50  mAP50-95): 100%|██████████| 9/9 [00:19<00:00,  2.21s/it]"
          ]
        },
        {
          "output_type": "stream",
          "name": "stdout",
          "text": [
            "                   all        272        165      0.603          1      0.776      0.769\n"
          ]
        },
        {
          "output_type": "stream",
          "name": "stderr",
          "text": [
            "\n"
          ]
        },
        {
          "output_type": "stream",
          "name": "stdout",
          "text": [
            "\n",
            "      Epoch    GPU_mem   box_loss   cls_loss   dfl_loss  Instances       Size\n"
          ]
        },
        {
          "output_type": "stream",
          "name": "stderr",
          "text": [
            "     75/100      3.44G      0.383       1.52     0.8525         16        640: 100%|██████████| 17/17 [00:30<00:00,  1.80s/it]\n",
            "                 Class     Images  Instances      Box(P          R      mAP50  mAP50-95): 100%|██████████| 9/9 [00:17<00:00,  1.99s/it]"
          ]
        },
        {
          "output_type": "stream",
          "name": "stdout",
          "text": [
            "                   all        272        165      0.602          1      0.764      0.756\n"
          ]
        },
        {
          "output_type": "stream",
          "name": "stderr",
          "text": [
            "\n"
          ]
        },
        {
          "output_type": "stream",
          "name": "stdout",
          "text": [
            "\n",
            "      Epoch    GPU_mem   box_loss   cls_loss   dfl_loss  Instances       Size\n"
          ]
        },
        {
          "output_type": "stream",
          "name": "stderr",
          "text": [
            "     76/100      3.44G     0.3471      1.349      0.835         25        640: 100%|██████████| 17/17 [00:32<00:00,  1.91s/it]\n",
            "                 Class     Images  Instances      Box(P          R      mAP50  mAP50-95): 100%|██████████| 9/9 [00:18<00:00,  2.08s/it]"
          ]
        },
        {
          "output_type": "stream",
          "name": "stdout",
          "text": [
            "                   all        272        165      0.607          1      0.751      0.744\n"
          ]
        },
        {
          "output_type": "stream",
          "name": "stderr",
          "text": [
            "\n"
          ]
        },
        {
          "output_type": "stream",
          "name": "stdout",
          "text": [
            "\n",
            "      Epoch    GPU_mem   box_loss   cls_loss   dfl_loss  Instances       Size\n"
          ]
        },
        {
          "output_type": "stream",
          "name": "stderr",
          "text": [
            "     77/100      3.44G     0.3694      1.389     0.8444         16        640: 100%|██████████| 17/17 [00:28<00:00,  1.67s/it]\n",
            "                 Class     Images  Instances      Box(P          R      mAP50  mAP50-95): 100%|██████████| 9/9 [00:17<00:00,  1.97s/it]"
          ]
        },
        {
          "output_type": "stream",
          "name": "stdout",
          "text": [
            "                   all        272        165      0.606          1      0.757      0.754\n"
          ]
        },
        {
          "output_type": "stream",
          "name": "stderr",
          "text": [
            "\n"
          ]
        },
        {
          "output_type": "stream",
          "name": "stdout",
          "text": [
            "\n",
            "      Epoch    GPU_mem   box_loss   cls_loss   dfl_loss  Instances       Size\n"
          ]
        },
        {
          "output_type": "stream",
          "name": "stderr",
          "text": [
            "     78/100      3.44G     0.3458      1.321     0.8448         21        640: 100%|██████████| 17/17 [00:30<00:00,  1.82s/it]\n",
            "                 Class     Images  Instances      Box(P          R      mAP50  mAP50-95): 100%|██████████| 9/9 [00:18<00:00,  2.02s/it]"
          ]
        },
        {
          "output_type": "stream",
          "name": "stdout",
          "text": [
            "                   all        272        165      0.605          1      0.692       0.69\n"
          ]
        },
        {
          "output_type": "stream",
          "name": "stderr",
          "text": [
            "\n"
          ]
        },
        {
          "output_type": "stream",
          "name": "stdout",
          "text": [
            "\n",
            "      Epoch    GPU_mem   box_loss   cls_loss   dfl_loss  Instances       Size\n"
          ]
        },
        {
          "output_type": "stream",
          "name": "stderr",
          "text": [
            "     79/100      3.44G     0.3298      1.306     0.8376         17        640: 100%|██████████| 17/17 [00:29<00:00,  1.75s/it]\n",
            "                 Class     Images  Instances      Box(P          R      mAP50  mAP50-95): 100%|██████████| 9/9 [00:18<00:00,  2.01s/it]"
          ]
        },
        {
          "output_type": "stream",
          "name": "stdout",
          "text": [
            "                   all        272        165      0.608          1      0.767      0.764\n"
          ]
        },
        {
          "output_type": "stream",
          "name": "stderr",
          "text": [
            "\n"
          ]
        },
        {
          "output_type": "stream",
          "name": "stdout",
          "text": [
            "\n",
            "      Epoch    GPU_mem   box_loss   cls_loss   dfl_loss  Instances       Size\n"
          ]
        },
        {
          "output_type": "stream",
          "name": "stderr",
          "text": [
            "     80/100      3.44G     0.3665      1.465      0.837         14        640: 100%|██████████| 17/17 [00:27<00:00,  1.64s/it]\n",
            "                 Class     Images  Instances      Box(P          R      mAP50  mAP50-95): 100%|██████████| 9/9 [00:19<00:00,  2.16s/it]"
          ]
        },
        {
          "output_type": "stream",
          "name": "stdout",
          "text": [
            "                   all        272        165      0.601          1      0.742      0.738\n"
          ]
        },
        {
          "output_type": "stream",
          "name": "stderr",
          "text": [
            "\n"
          ]
        },
        {
          "output_type": "stream",
          "name": "stdout",
          "text": [
            "\n",
            "      Epoch    GPU_mem   box_loss   cls_loss   dfl_loss  Instances       Size\n"
          ]
        },
        {
          "output_type": "stream",
          "name": "stderr",
          "text": [
            "     81/100      3.44G     0.3142       1.35     0.8303         23        640: 100%|██████████| 17/17 [00:28<00:00,  1.65s/it]\n",
            "                 Class     Images  Instances      Box(P          R      mAP50  mAP50-95): 100%|██████████| 9/9 [00:18<00:00,  2.02s/it]"
          ]
        },
        {
          "output_type": "stream",
          "name": "stdout",
          "text": [
            "                   all        272        165      0.605          1      0.744      0.741\n"
          ]
        },
        {
          "output_type": "stream",
          "name": "stderr",
          "text": [
            "\n"
          ]
        },
        {
          "output_type": "stream",
          "name": "stdout",
          "text": [
            "\n",
            "      Epoch    GPU_mem   box_loss   cls_loss   dfl_loss  Instances       Size\n"
          ]
        },
        {
          "output_type": "stream",
          "name": "stderr",
          "text": [
            "     82/100      3.44G     0.3022      1.325     0.8243         18        640: 100%|██████████| 17/17 [00:28<00:00,  1.70s/it]\n",
            "                 Class     Images  Instances      Box(P          R      mAP50  mAP50-95): 100%|██████████| 9/9 [00:20<00:00,  2.29s/it]"
          ]
        },
        {
          "output_type": "stream",
          "name": "stdout",
          "text": [
            "                   all        272        165      0.603          1      0.728      0.725\n"
          ]
        },
        {
          "output_type": "stream",
          "name": "stderr",
          "text": [
            "\n"
          ]
        },
        {
          "output_type": "stream",
          "name": "stdout",
          "text": [
            "\n",
            "      Epoch    GPU_mem   box_loss   cls_loss   dfl_loss  Instances       Size\n"
          ]
        },
        {
          "output_type": "stream",
          "name": "stderr",
          "text": [
            "     83/100      3.44G     0.2987      1.357     0.8332         18        640: 100%|██████████| 17/17 [00:29<00:00,  1.74s/it]\n",
            "                 Class     Images  Instances      Box(P          R      mAP50  mAP50-95): 100%|██████████| 9/9 [00:17<00:00,  1.92s/it]"
          ]
        },
        {
          "output_type": "stream",
          "name": "stdout",
          "text": [
            "                   all        272        165      0.599          1      0.725       0.72\n"
          ]
        },
        {
          "output_type": "stream",
          "name": "stderr",
          "text": [
            "\n"
          ]
        },
        {
          "output_type": "stream",
          "name": "stdout",
          "text": [
            "\n",
            "      Epoch    GPU_mem   box_loss   cls_loss   dfl_loss  Instances       Size\n"
          ]
        },
        {
          "output_type": "stream",
          "name": "stderr",
          "text": [
            "     84/100      3.44G     0.2818      1.288     0.8237         20        640: 100%|██████████| 17/17 [00:31<00:00,  1.84s/it]\n",
            "                 Class     Images  Instances      Box(P          R      mAP50  mAP50-95): 100%|██████████| 9/9 [00:19<00:00,  2.19s/it]"
          ]
        },
        {
          "output_type": "stream",
          "name": "stdout",
          "text": [
            "                   all        272        165      0.603          1      0.756      0.751\n"
          ]
        },
        {
          "output_type": "stream",
          "name": "stderr",
          "text": [
            "\n"
          ]
        },
        {
          "output_type": "stream",
          "name": "stdout",
          "text": [
            "\n",
            "      Epoch    GPU_mem   box_loss   cls_loss   dfl_loss  Instances       Size\n"
          ]
        },
        {
          "output_type": "stream",
          "name": "stderr",
          "text": [
            "     85/100      3.44G     0.2891      1.428     0.8222         14        640: 100%|██████████| 17/17 [00:29<00:00,  1.73s/it]\n",
            "                 Class     Images  Instances      Box(P          R      mAP50  mAP50-95): 100%|██████████| 9/9 [00:18<00:00,  2.04s/it]"
          ]
        },
        {
          "output_type": "stream",
          "name": "stdout",
          "text": [
            "                   all        272        165      0.607          1      0.779      0.777\n"
          ]
        },
        {
          "output_type": "stream",
          "name": "stderr",
          "text": [
            "\n"
          ]
        },
        {
          "output_type": "stream",
          "name": "stdout",
          "text": [
            "\n",
            "      Epoch    GPU_mem   box_loss   cls_loss   dfl_loss  Instances       Size\n"
          ]
        },
        {
          "output_type": "stream",
          "name": "stderr",
          "text": [
            "     86/100      3.44G     0.3435       1.46      0.827         14        640: 100%|██████████| 17/17 [00:28<00:00,  1.69s/it]\n",
            "                 Class     Images  Instances      Box(P          R      mAP50  mAP50-95): 100%|██████████| 9/9 [00:19<00:00,  2.19s/it]"
          ]
        },
        {
          "output_type": "stream",
          "name": "stdout",
          "text": [
            "                   all        272        165      0.602          1       0.73      0.728\n"
          ]
        },
        {
          "output_type": "stream",
          "name": "stderr",
          "text": [
            "\n"
          ]
        },
        {
          "output_type": "stream",
          "name": "stdout",
          "text": [
            "\n",
            "      Epoch    GPU_mem   box_loss   cls_loss   dfl_loss  Instances       Size\n"
          ]
        },
        {
          "output_type": "stream",
          "name": "stderr",
          "text": [
            "     87/100      3.44G     0.3212      1.413     0.8349         17        640: 100%|██████████| 17/17 [00:29<00:00,  1.72s/it]\n",
            "                 Class     Images  Instances      Box(P          R      mAP50  mAP50-95): 100%|██████████| 9/9 [00:19<00:00,  2.13s/it]"
          ]
        },
        {
          "output_type": "stream",
          "name": "stdout",
          "text": [
            "                   all        272        165      0.597          1      0.747      0.744\n"
          ]
        },
        {
          "output_type": "stream",
          "name": "stderr",
          "text": [
            "\n"
          ]
        },
        {
          "output_type": "stream",
          "name": "stdout",
          "text": [
            "\n",
            "      Epoch    GPU_mem   box_loss   cls_loss   dfl_loss  Instances       Size\n"
          ]
        },
        {
          "output_type": "stream",
          "name": "stderr",
          "text": [
            "     88/100      3.44G     0.2684      1.341     0.8045         16        640: 100%|██████████| 17/17 [00:31<00:00,  1.83s/it]\n",
            "                 Class     Images  Instances      Box(P          R      mAP50  mAP50-95): 100%|██████████| 9/9 [00:18<00:00,  2.09s/it]"
          ]
        },
        {
          "output_type": "stream",
          "name": "stdout",
          "text": [
            "                   all        272        165      0.596          1      0.729      0.727\n"
          ]
        },
        {
          "output_type": "stream",
          "name": "stderr",
          "text": [
            "\n"
          ]
        },
        {
          "output_type": "stream",
          "name": "stdout",
          "text": [
            "\n",
            "      Epoch    GPU_mem   box_loss   cls_loss   dfl_loss  Instances       Size\n"
          ]
        },
        {
          "output_type": "stream",
          "name": "stderr",
          "text": [
            "     89/100      3.44G     0.3167      1.328     0.8274         22        640: 100%|██████████| 17/17 [00:28<00:00,  1.68s/it]\n",
            "                 Class     Images  Instances      Box(P          R      mAP50  mAP50-95): 100%|██████████| 9/9 [00:18<00:00,  2.08s/it]"
          ]
        },
        {
          "output_type": "stream",
          "name": "stdout",
          "text": [
            "                   all        272        165      0.597          1      0.735      0.732\n"
          ]
        },
        {
          "output_type": "stream",
          "name": "stderr",
          "text": [
            "\n"
          ]
        },
        {
          "output_type": "stream",
          "name": "stdout",
          "text": [
            "\n",
            "      Epoch    GPU_mem   box_loss   cls_loss   dfl_loss  Instances       Size\n"
          ]
        },
        {
          "output_type": "stream",
          "name": "stderr",
          "text": [
            "     90/100      3.44G     0.2998      1.374     0.8363         20        640: 100%|██████████| 17/17 [00:27<00:00,  1.65s/it]\n",
            "                 Class     Images  Instances      Box(P          R      mAP50  mAP50-95): 100%|██████████| 9/9 [00:19<00:00,  2.16s/it]"
          ]
        },
        {
          "output_type": "stream",
          "name": "stdout",
          "text": [
            "                   all        272        165        0.6          1      0.772       0.77\n"
          ]
        },
        {
          "output_type": "stream",
          "name": "stderr",
          "text": [
            "\n"
          ]
        },
        {
          "output_type": "stream",
          "name": "stdout",
          "text": [
            "Closing dataloader mosaic\n",
            "\u001b[34m\u001b[1malbumentations: \u001b[0mBlur(p=0.01, blur_limit=(3, 7)), MedianBlur(p=0.01, blur_limit=(3, 7)), ToGray(p=0.01, method='weighted_average', num_output_channels=3), CLAHE(p=0.01, clip_limit=(1.0, 4.0), tile_grid_size=(8, 8))\n",
            "\n",
            "      Epoch    GPU_mem   box_loss   cls_loss   dfl_loss  Instances       Size\n"
          ]
        },
        {
          "output_type": "stream",
          "name": "stderr",
          "text": [
            "     91/100      3.44G     0.2326      1.599     0.7933          9        640: 100%|██████████| 17/17 [00:43<00:00,  2.55s/it]\n",
            "                 Class     Images  Instances      Box(P          R      mAP50  mAP50-95): 100%|██████████| 9/9 [00:17<00:00,  1.95s/it]"
          ]
        },
        {
          "output_type": "stream",
          "name": "stdout",
          "text": [
            "                   all        272        165      0.601          1       0.75      0.747\n"
          ]
        },
        {
          "output_type": "stream",
          "name": "stderr",
          "text": [
            "\n"
          ]
        },
        {
          "output_type": "stream",
          "name": "stdout",
          "text": [
            "\n",
            "      Epoch    GPU_mem   box_loss   cls_loss   dfl_loss  Instances       Size\n"
          ]
        },
        {
          "output_type": "stream",
          "name": "stderr",
          "text": [
            "     92/100      3.44G     0.2185      1.633     0.7918          7        640: 100%|██████████| 17/17 [00:29<00:00,  1.75s/it]\n",
            "                 Class     Images  Instances      Box(P          R      mAP50  mAP50-95): 100%|██████████| 9/9 [00:19<00:00,  2.16s/it]"
          ]
        },
        {
          "output_type": "stream",
          "name": "stdout",
          "text": [
            "                   all        272        165      0.606          1      0.737      0.734\n"
          ]
        },
        {
          "output_type": "stream",
          "name": "stderr",
          "text": [
            "\n"
          ]
        },
        {
          "output_type": "stream",
          "name": "stdout",
          "text": [
            "\n",
            "      Epoch    GPU_mem   box_loss   cls_loss   dfl_loss  Instances       Size\n"
          ]
        },
        {
          "output_type": "stream",
          "name": "stderr",
          "text": [
            "     93/100      3.44G     0.2072      1.597     0.7895          9        640: 100%|██████████| 17/17 [00:31<00:00,  1.85s/it]\n",
            "                 Class     Images  Instances      Box(P          R      mAP50  mAP50-95): 100%|██████████| 9/9 [00:17<00:00,  1.99s/it]"
          ]
        },
        {
          "output_type": "stream",
          "name": "stdout",
          "text": [
            "                   all        272        165      0.606          1      0.728      0.726\n"
          ]
        },
        {
          "output_type": "stream",
          "name": "stderr",
          "text": [
            "\n"
          ]
        },
        {
          "output_type": "stream",
          "name": "stdout",
          "text": [
            "\n",
            "      Epoch    GPU_mem   box_loss   cls_loss   dfl_loss  Instances       Size\n"
          ]
        },
        {
          "output_type": "stream",
          "name": "stderr",
          "text": [
            "     94/100      3.44G     0.2098      1.613     0.7544         10        640: 100%|██████████| 17/17 [00:31<00:00,  1.83s/it]\n",
            "                 Class     Images  Instances      Box(P          R      mAP50  mAP50-95): 100%|██████████| 9/9 [00:20<00:00,  2.25s/it]"
          ]
        },
        {
          "output_type": "stream",
          "name": "stdout",
          "text": [
            "                   all        272        165      0.605          1      0.731      0.729\n"
          ]
        },
        {
          "output_type": "stream",
          "name": "stderr",
          "text": [
            "\n"
          ]
        },
        {
          "output_type": "stream",
          "name": "stdout",
          "text": [
            "\n",
            "      Epoch    GPU_mem   box_loss   cls_loss   dfl_loss  Instances       Size\n"
          ]
        },
        {
          "output_type": "stream",
          "name": "stderr",
          "text": [
            "     95/100      3.44G     0.1973      1.578       0.79          8        640: 100%|██████████| 17/17 [00:32<00:00,  1.89s/it]\n",
            "                 Class     Images  Instances      Box(P          R      mAP50  mAP50-95): 100%|██████████| 9/9 [00:19<00:00,  2.15s/it]"
          ]
        },
        {
          "output_type": "stream",
          "name": "stdout",
          "text": [
            "                   all        272        165      0.606          1      0.742       0.74\n"
          ]
        },
        {
          "output_type": "stream",
          "name": "stderr",
          "text": [
            "\n"
          ]
        },
        {
          "output_type": "stream",
          "name": "stdout",
          "text": [
            "\n",
            "      Epoch    GPU_mem   box_loss   cls_loss   dfl_loss  Instances       Size\n"
          ]
        },
        {
          "output_type": "stream",
          "name": "stderr",
          "text": [
            "     96/100      3.44G     0.2062      1.574     0.7797         10        640: 100%|██████████| 17/17 [00:30<00:00,  1.78s/it]\n",
            "                 Class     Images  Instances      Box(P          R      mAP50  mAP50-95): 100%|██████████| 9/9 [00:19<00:00,  2.20s/it]"
          ]
        },
        {
          "output_type": "stream",
          "name": "stdout",
          "text": [
            "                   all        272        165      0.604          1      0.723      0.721\n"
          ]
        },
        {
          "output_type": "stream",
          "name": "stderr",
          "text": [
            "\n"
          ]
        },
        {
          "output_type": "stream",
          "name": "stdout",
          "text": [
            "\n",
            "      Epoch    GPU_mem   box_loss   cls_loss   dfl_loss  Instances       Size\n"
          ]
        },
        {
          "output_type": "stream",
          "name": "stderr",
          "text": [
            "     97/100      3.44G     0.1941      1.551     0.7555         11        640: 100%|██████████| 17/17 [00:28<00:00,  1.69s/it]\n",
            "                 Class     Images  Instances      Box(P          R      mAP50  mAP50-95): 100%|██████████| 9/9 [00:17<00:00,  2.00s/it]"
          ]
        },
        {
          "output_type": "stream",
          "name": "stdout",
          "text": [
            "                   all        272        165      0.606          1      0.764      0.762\n"
          ]
        },
        {
          "output_type": "stream",
          "name": "stderr",
          "text": [
            "\n"
          ]
        },
        {
          "output_type": "stream",
          "name": "stdout",
          "text": [
            "\n",
            "      Epoch    GPU_mem   box_loss   cls_loss   dfl_loss  Instances       Size\n"
          ]
        },
        {
          "output_type": "stream",
          "name": "stderr",
          "text": [
            "     98/100      3.44G      0.202      1.579     0.7675          6        640: 100%|██████████| 17/17 [00:28<00:00,  1.68s/it]\n",
            "                 Class     Images  Instances      Box(P          R      mAP50  mAP50-95): 100%|██████████| 9/9 [00:16<00:00,  1.81s/it]"
          ]
        },
        {
          "output_type": "stream",
          "name": "stdout",
          "text": [
            "                   all        272        165      0.609          1       0.74      0.737\n"
          ]
        },
        {
          "output_type": "stream",
          "name": "stderr",
          "text": [
            "\n"
          ]
        },
        {
          "output_type": "stream",
          "name": "stdout",
          "text": [
            "\n",
            "      Epoch    GPU_mem   box_loss   cls_loss   dfl_loss  Instances       Size\n"
          ]
        },
        {
          "output_type": "stream",
          "name": "stderr",
          "text": [
            "     99/100      3.44G     0.1875      1.516     0.7829          7        640: 100%|██████████| 17/17 [00:26<00:00,  1.55s/it]\n",
            "                 Class     Images  Instances      Box(P          R      mAP50  mAP50-95): 100%|██████████| 9/9 [00:17<00:00,  1.90s/it]"
          ]
        },
        {
          "output_type": "stream",
          "name": "stdout",
          "text": [
            "                   all        272        165       0.61          1       0.78      0.778\n"
          ]
        },
        {
          "output_type": "stream",
          "name": "stderr",
          "text": [
            "\n"
          ]
        },
        {
          "output_type": "stream",
          "name": "stdout",
          "text": [
            "\n",
            "      Epoch    GPU_mem   box_loss   cls_loss   dfl_loss  Instances       Size\n"
          ]
        },
        {
          "output_type": "stream",
          "name": "stderr",
          "text": [
            "    100/100      3.44G     0.2007       1.58     0.7849          8        640: 100%|██████████| 17/17 [00:29<00:00,  1.73s/it]\n",
            "                 Class     Images  Instances      Box(P          R      mAP50  mAP50-95): 100%|██████████| 9/9 [00:18<00:00,  2.10s/it]"
          ]
        },
        {
          "output_type": "stream",
          "name": "stdout",
          "text": [
            "                   all        272        165       0.61          1      0.751      0.749\n"
          ]
        },
        {
          "output_type": "stream",
          "name": "stderr",
          "text": [
            "\n"
          ]
        },
        {
          "output_type": "stream",
          "name": "stdout",
          "text": [
            "\n",
            "100 epochs completed in 1.377 hours.\n",
            "Optimizer stripped from runs/detect/yolo_sign_model2/weights/last.pt, 5.5MB\n",
            "Optimizer stripped from runs/detect/yolo_sign_model2/weights/best.pt, 5.5MB\n",
            "\n",
            "Validating runs/detect/yolo_sign_model2/weights/best.pt...\n",
            "Ultralytics 8.3.159 🚀 Python-3.11.13 torch-2.6.0+cu124 CUDA:0 (Tesla T4, 15095MiB)\n",
            "YOLOv12n summary (fused): 159 layers, 2,561,213 parameters, 0 gradients, 6.3 GFLOPs\n"
          ]
        },
        {
          "output_type": "stream",
          "name": "stderr",
          "text": [
            "                 Class     Images  Instances      Box(P          R      mAP50  mAP50-95): 100%|██████████| 9/9 [00:26<00:00,  2.94s/it]\n"
          ]
        },
        {
          "output_type": "stream",
          "name": "stdout",
          "text": [
            "                   all        272        165       0.61          1      0.729      0.726\n",
            "               class_0          5          5      0.601          1      0.622      0.622\n",
            "               class_1         25         25      0.621          1      0.697      0.697\n",
            "               class_2         15         15      0.621          1      0.685      0.685\n",
            "               class_3         10         10      0.617          1      0.678      0.678\n",
            "               class_4         10         10      0.614          1      0.738      0.738\n",
            "               class_5          5          5      0.611          1      0.858      0.858\n",
            "               class_6          5          5      0.606          1      0.711      0.711\n",
            "               class_7         10         10      0.616          1      0.778      0.778\n",
            "               class_8          5          5      0.602          1      0.732      0.732\n",
            "               class_9          5          5      0.603          1      0.695      0.695\n",
            "              class_10          5          5      0.601          1      0.732      0.732\n",
            "              class_11          5          5        0.6          1      0.853      0.853\n",
            "              class_12          5          5      0.611          1      0.881      0.881\n",
            "              class_13          5          5      0.619          1      0.655      0.655\n",
            "              class_14          5          5      0.616          1      0.622      0.622\n",
            "              class_15         10         10      0.614          1      0.728      0.728\n",
            "              class_17          5          5      0.604          1      0.695      0.695\n",
            "              class_18          5          5       0.61          1      0.761      0.761\n",
            "              class_19          5          5      0.597          1      0.655      0.655\n",
            "              class_20          5          5      0.604          1      0.858      0.858\n",
            "              class_21         10         10       0.62          1       0.74      0.683\n",
            "              class_22          5          5      0.604          1      0.655      0.655\n",
            "Speed: 0.2ms preprocess, 3.5ms inference, 0.0ms loss, 2.5ms postprocess per image\n",
            "Results saved to \u001b[1mruns/detect/yolo_sign_model2\u001b[0m\n",
            "✅ Model trained and saved at: runs/detect/yolo_sign_model/weights/best.pt\n"
          ]
        }
      ]
    },
    {
      "cell_type": "code",
      "metadata": {
        "colab": {
          "base_uri": "https://localhost:8080/"
        },
        "id": "b1f611f9",
        "outputId": "a151d090-798e-4aa6-dde8-469c7d67ec64"
      },
      "source": [
        "from ultralytics import YOLO\n",
        "\n",
        "# Load the trained model\n",
        "model_path = '/content/sign.pt'\n",
        "model = YOLO(model_path)\n",
        "\n",
        "# Test the model on an image or video\n",
        "results = model.predict(source='/content/drive/MyDrive/sign_dataset/images/test', save=True, save_txt=True, project='/content/drive/MyDrive/yolo_sign_model_runs', name='predict')\n",
        "\n",
        "# The results will be saved in the specified project directory\n",
        "print(\"✅ Testing complete. Results saved in 'runs/detect/predict' folder within your specified project directory.\")"
      ],
      "execution_count": 6,
      "outputs": [
        {
          "output_type": "stream",
          "name": "stdout",
          "text": [
            "Creating new Ultralytics Settings v0.0.6 file ✅ \n",
            "View Ultralytics Settings with 'yolo settings' or at '/root/.config/Ultralytics/settings.json'\n",
            "Update Settings with 'yolo settings key=value', i.e. 'yolo settings runs_dir=path/to/dir'. For help see https://docs.ultralytics.com/quickstart/#ultralytics-settings.\n",
            "\n",
            "image 1/272 /content/drive/MyDrive/sign_dataset/images/test/IMG_6633 - Copy (2) - Copy.jpg: 640x480 1 class_0, 394.8ms\n",
            "image 2/272 /content/drive/MyDrive/sign_dataset/images/test/IMG_6633 - Copy (2).jpg: 640x480 1 class_0, 202.4ms\n",
            "image 3/272 /content/drive/MyDrive/sign_dataset/images/test/IMG_6633 - Copy (3) - Copy.jpg: 640x480 1 class_0, 211.1ms\n",
            "image 4/272 /content/drive/MyDrive/sign_dataset/images/test/IMG_6633 - Copy (3).jpg: 640x480 1 class_0, 198.5ms\n",
            "image 5/272 /content/drive/MyDrive/sign_dataset/images/test/IMG_6633 - Copy (4).jpg: 640x480 1 class_0, 184.9ms\n",
            "image 6/272 /content/drive/MyDrive/sign_dataset/images/test/IMG_6633 - Copy - Copy.jpg: 640x480 1 class_0, 202.9ms\n",
            "image 7/272 /content/drive/MyDrive/sign_dataset/images/test/IMG_6633 - Copy.jpg: 640x480 1 class_0, 201.7ms\n",
            "image 8/272 /content/drive/MyDrive/sign_dataset/images/test/IMG_6633.jpg: 640x480 1 class_0, 201.6ms\n",
            "image 9/272 /content/drive/MyDrive/sign_dataset/images/test/IMG_6634 - Copy (2) - Copy.jpg: 640x480 1 class_1, 287.4ms\n",
            "image 10/272 /content/drive/MyDrive/sign_dataset/images/test/IMG_6634 - Copy (2).jpg: 640x480 1 class_1, 320.8ms\n",
            "image 11/272 /content/drive/MyDrive/sign_dataset/images/test/IMG_6634 - Copy (3) - Copy.jpg: 640x480 1 class_1, 300.1ms\n",
            "image 12/272 /content/drive/MyDrive/sign_dataset/images/test/IMG_6634 - Copy (3).jpg: 640x480 1 class_1, 329.3ms\n",
            "image 13/272 /content/drive/MyDrive/sign_dataset/images/test/IMG_6634 - Copy (4).jpg: 640x480 1 class_1, 316.5ms\n",
            "image 14/272 /content/drive/MyDrive/sign_dataset/images/test/IMG_6634 - Copy - Copy.jpg: 640x480 1 class_1, 294.0ms\n",
            "image 15/272 /content/drive/MyDrive/sign_dataset/images/test/IMG_6634 - Copy.jpg: 640x480 1 class_1, 323.9ms\n",
            "image 16/272 /content/drive/MyDrive/sign_dataset/images/test/IMG_6634.jpg: 640x480 1 class_1, 203.0ms\n",
            "image 17/272 /content/drive/MyDrive/sign_dataset/images/test/IMG_6635 - Copy (2) - Copy.jpg: 640x480 1 class_1, 191.8ms\n",
            "image 18/272 /content/drive/MyDrive/sign_dataset/images/test/IMG_6635 - Copy (2).jpg: 640x480 1 class_1, 189.7ms\n",
            "image 19/272 /content/drive/MyDrive/sign_dataset/images/test/IMG_6635 - Copy (3) - Copy.jpg: 640x480 1 class_1, 206.7ms\n",
            "image 20/272 /content/drive/MyDrive/sign_dataset/images/test/IMG_6635 - Copy (3).jpg: 640x480 1 class_1, 219.3ms\n",
            "image 21/272 /content/drive/MyDrive/sign_dataset/images/test/IMG_6635 - Copy (4).jpg: 640x480 1 class_1, 186.3ms\n",
            "image 22/272 /content/drive/MyDrive/sign_dataset/images/test/IMG_6635 - Copy - Copy.jpg: 640x480 1 class_1, 208.9ms\n",
            "image 23/272 /content/drive/MyDrive/sign_dataset/images/test/IMG_6635 - Copy.jpg: 640x480 1 class_1, 210.4ms\n",
            "image 24/272 /content/drive/MyDrive/sign_dataset/images/test/IMG_6635.jpg: 640x480 1 class_1, 216.0ms\n",
            "image 25/272 /content/drive/MyDrive/sign_dataset/images/test/IMG_6636 - Copy (2) - Copy.jpg: 640x480 1 class_1, 188.3ms\n",
            "image 26/272 /content/drive/MyDrive/sign_dataset/images/test/IMG_6636 - Copy (2).jpg: 640x480 1 class_1, 198.8ms\n",
            "image 27/272 /content/drive/MyDrive/sign_dataset/images/test/IMG_6636 - Copy (3) - Copy.jpg: 640x480 1 class_1, 247.0ms\n",
            "image 28/272 /content/drive/MyDrive/sign_dataset/images/test/IMG_6636 - Copy (3).jpg: 640x480 1 class_1, 198.4ms\n",
            "image 29/272 /content/drive/MyDrive/sign_dataset/images/test/IMG_6636 - Copy (4).jpg: 640x480 1 class_1, 229.3ms\n",
            "image 30/272 /content/drive/MyDrive/sign_dataset/images/test/IMG_6636 - Copy - Copy.jpg: 640x480 1 class_1, 208.0ms\n",
            "image 31/272 /content/drive/MyDrive/sign_dataset/images/test/IMG_6636 - Copy.jpg: 640x480 1 class_1, 199.0ms\n",
            "image 32/272 /content/drive/MyDrive/sign_dataset/images/test/IMG_6636.jpg: 640x480 1 class_1, 193.8ms\n",
            "image 33/272 /content/drive/MyDrive/sign_dataset/images/test/IMG_6637 - Copy (2) - Copy.jpg: 640x480 1 class_1, 213.6ms\n",
            "image 34/272 /content/drive/MyDrive/sign_dataset/images/test/IMG_6637 - Copy (2).jpg: 640x480 1 class_1, 204.6ms\n",
            "image 35/272 /content/drive/MyDrive/sign_dataset/images/test/IMG_6637 - Copy (3) - Copy.jpg: 640x480 1 class_1, 272.9ms\n",
            "image 36/272 /content/drive/MyDrive/sign_dataset/images/test/IMG_6637 - Copy (3).jpg: 640x480 1 class_1, 345.8ms\n",
            "image 37/272 /content/drive/MyDrive/sign_dataset/images/test/IMG_6637 - Copy (4).jpg: 640x480 1 class_1, 314.7ms\n",
            "image 38/272 /content/drive/MyDrive/sign_dataset/images/test/IMG_6637 - Copy - Copy.jpg: 640x480 1 class_1, 379.7ms\n",
            "image 39/272 /content/drive/MyDrive/sign_dataset/images/test/IMG_6637 - Copy.jpg: 640x480 1 class_1, 290.3ms\n",
            "image 40/272 /content/drive/MyDrive/sign_dataset/images/test/IMG_6637.jpg: 640x480 1 class_1, 297.9ms\n",
            "image 41/272 /content/drive/MyDrive/sign_dataset/images/test/IMG_6638 - Copy (2) - Copy.jpg: 640x480 1 class_1, 351.2ms\n",
            "image 42/272 /content/drive/MyDrive/sign_dataset/images/test/IMG_6638 - Copy (2).jpg: 640x480 1 class_1, 232.2ms\n",
            "image 43/272 /content/drive/MyDrive/sign_dataset/images/test/IMG_6638 - Copy (3) - Copy.jpg: 640x480 1 class_1, 219.1ms\n",
            "image 44/272 /content/drive/MyDrive/sign_dataset/images/test/IMG_6638 - Copy (3).jpg: 640x480 1 class_1, 212.1ms\n",
            "image 45/272 /content/drive/MyDrive/sign_dataset/images/test/IMG_6638 - Copy (4).jpg: 640x480 1 class_1, 182.5ms\n",
            "image 46/272 /content/drive/MyDrive/sign_dataset/images/test/IMG_6638 - Copy - Copy.jpg: 640x480 1 class_1, 196.9ms\n",
            "image 47/272 /content/drive/MyDrive/sign_dataset/images/test/IMG_6638 - Copy.jpg: 640x480 1 class_1, 189.1ms\n",
            "image 48/272 /content/drive/MyDrive/sign_dataset/images/test/IMG_6638.jpg: 640x480 1 class_1, 202.8ms\n",
            "image 49/272 /content/drive/MyDrive/sign_dataset/images/test/IMG_6639 - Copy (2) - Copy.jpg: 640x480 (no detections), 197.1ms\n",
            "image 50/272 /content/drive/MyDrive/sign_dataset/images/test/IMG_6639 - Copy (2).jpg: 640x480 (no detections), 185.9ms\n",
            "image 51/272 /content/drive/MyDrive/sign_dataset/images/test/IMG_6639 - Copy (3) - Copy.jpg: 640x480 (no detections), 202.6ms\n",
            "image 52/272 /content/drive/MyDrive/sign_dataset/images/test/IMG_6639 - Copy (3).jpg: 640x480 (no detections), 195.9ms\n",
            "image 53/272 /content/drive/MyDrive/sign_dataset/images/test/IMG_6639 - Copy (4).jpg: 640x480 (no detections), 185.4ms\n",
            "image 54/272 /content/drive/MyDrive/sign_dataset/images/test/IMG_6639 - Copy - Copy.jpg: 640x480 (no detections), 204.8ms\n",
            "image 55/272 /content/drive/MyDrive/sign_dataset/images/test/IMG_6639 - Copy.jpg: 640x480 (no detections), 190.8ms\n",
            "image 56/272 /content/drive/MyDrive/sign_dataset/images/test/IMG_6639.jpg: 640x480 (no detections), 207.2ms\n",
            "image 57/272 /content/drive/MyDrive/sign_dataset/images/test/IMG_6640 - Copy (2) - Copy.jpg: 640x480 1 class_2, 205.1ms\n",
            "image 58/272 /content/drive/MyDrive/sign_dataset/images/test/IMG_6640 - Copy (2).jpg: 640x480 1 class_2, 193.1ms\n",
            "image 59/272 /content/drive/MyDrive/sign_dataset/images/test/IMG_6640 - Copy (3) - Copy.jpg: 640x480 1 class_2, 188.1ms\n",
            "image 60/272 /content/drive/MyDrive/sign_dataset/images/test/IMG_6640 - Copy (3).jpg: 640x480 1 class_2, 224.1ms\n",
            "image 61/272 /content/drive/MyDrive/sign_dataset/images/test/IMG_6640 - Copy (4).jpg: 640x480 1 class_2, 340.7ms\n",
            "image 62/272 /content/drive/MyDrive/sign_dataset/images/test/IMG_6640 - Copy - Copy.jpg: 640x480 1 class_2, 332.3ms\n",
            "image 63/272 /content/drive/MyDrive/sign_dataset/images/test/IMG_6640 - Copy.jpg: 640x480 1 class_2, 318.8ms\n",
            "image 64/272 /content/drive/MyDrive/sign_dataset/images/test/IMG_6640.jpg: 640x480 1 class_2, 303.7ms\n",
            "image 65/272 /content/drive/MyDrive/sign_dataset/images/test/IMG_6641 - Copy (2) - Copy.jpg: 640x480 1 class_2, 330.0ms\n",
            "image 66/272 /content/drive/MyDrive/sign_dataset/images/test/IMG_6641 - Copy (2).jpg: 640x480 1 class_2, 345.4ms\n",
            "image 67/272 /content/drive/MyDrive/sign_dataset/images/test/IMG_6641 - Copy (3) - Copy.jpg: 640x480 1 class_2, 327.6ms\n",
            "image 68/272 /content/drive/MyDrive/sign_dataset/images/test/IMG_6641 - Copy (3).jpg: 640x480 1 class_2, 206.6ms\n",
            "image 69/272 /content/drive/MyDrive/sign_dataset/images/test/IMG_6641 - Copy (4).jpg: 640x480 1 class_2, 247.2ms\n",
            "image 70/272 /content/drive/MyDrive/sign_dataset/images/test/IMG_6641 - Copy - Copy.jpg: 640x480 1 class_2, 208.4ms\n",
            "image 71/272 /content/drive/MyDrive/sign_dataset/images/test/IMG_6641 - Copy.jpg: 640x480 1 class_2, 226.4ms\n",
            "image 72/272 /content/drive/MyDrive/sign_dataset/images/test/IMG_6641.jpg: 640x480 1 class_2, 205.0ms\n",
            "image 73/272 /content/drive/MyDrive/sign_dataset/images/test/IMG_6642 - Copy (2) - Copy.jpg: 640x480 1 class_2, 200.9ms\n",
            "image 74/272 /content/drive/MyDrive/sign_dataset/images/test/IMG_6642 - Copy (2).jpg: 640x480 1 class_2, 222.9ms\n",
            "image 75/272 /content/drive/MyDrive/sign_dataset/images/test/IMG_6642 - Copy (3) - Copy.jpg: 640x480 1 class_2, 205.7ms\n",
            "image 76/272 /content/drive/MyDrive/sign_dataset/images/test/IMG_6642 - Copy (3).jpg: 640x480 1 class_2, 210.5ms\n",
            "image 77/272 /content/drive/MyDrive/sign_dataset/images/test/IMG_6642 - Copy (4).jpg: 640x480 1 class_2, 212.7ms\n",
            "image 78/272 /content/drive/MyDrive/sign_dataset/images/test/IMG_6642 - Copy - Copy.jpg: 640x480 1 class_2, 223.0ms\n",
            "image 79/272 /content/drive/MyDrive/sign_dataset/images/test/IMG_6642 - Copy.jpg: 640x480 1 class_2, 185.2ms\n",
            "image 80/272 /content/drive/MyDrive/sign_dataset/images/test/IMG_6642.jpg: 640x480 1 class_2, 226.9ms\n",
            "image 81/272 /content/drive/MyDrive/sign_dataset/images/test/IMG_6643 - Copy (2) - Copy.jpg: 640x480 1 class_3, 199.8ms\n",
            "image 82/272 /content/drive/MyDrive/sign_dataset/images/test/IMG_6643 - Copy (2).jpg: 640x480 1 class_3, 208.1ms\n",
            "image 83/272 /content/drive/MyDrive/sign_dataset/images/test/IMG_6643 - Copy (3) - Copy.jpg: 640x480 1 class_3, 187.7ms\n",
            "image 84/272 /content/drive/MyDrive/sign_dataset/images/test/IMG_6643 - Copy (3).jpg: 640x480 1 class_3, 188.1ms\n",
            "image 85/272 /content/drive/MyDrive/sign_dataset/images/test/IMG_6643 - Copy (4).jpg: 640x480 1 class_3, 243.2ms\n",
            "image 86/272 /content/drive/MyDrive/sign_dataset/images/test/IMG_6643 - Copy - Copy.jpg: 640x480 1 class_3, 322.3ms\n",
            "image 87/272 /content/drive/MyDrive/sign_dataset/images/test/IMG_6643 - Copy.jpg: 640x480 1 class_3, 316.9ms\n",
            "image 88/272 /content/drive/MyDrive/sign_dataset/images/test/IMG_6643.jpg: 640x480 1 class_3, 310.5ms\n",
            "image 89/272 /content/drive/MyDrive/sign_dataset/images/test/IMG_6644 - Copy (2) - Copy.jpg: 640x480 1 class_3, 294.5ms\n",
            "image 90/272 /content/drive/MyDrive/sign_dataset/images/test/IMG_6644 - Copy (2).jpg: 640x480 1 class_3, 324.0ms\n",
            "image 91/272 /content/drive/MyDrive/sign_dataset/images/test/IMG_6644 - Copy (3) - Copy.jpg: 640x480 1 class_3, 311.7ms\n",
            "image 92/272 /content/drive/MyDrive/sign_dataset/images/test/IMG_6644 - Copy (3).jpg: 640x480 1 class_3, 188.3ms\n",
            "image 93/272 /content/drive/MyDrive/sign_dataset/images/test/IMG_6644 - Copy (4).jpg: 640x480 1 class_3, 196.5ms\n",
            "image 94/272 /content/drive/MyDrive/sign_dataset/images/test/IMG_6644 - Copy - Copy.jpg: 640x480 1 class_3, 212.4ms\n",
            "image 95/272 /content/drive/MyDrive/sign_dataset/images/test/IMG_6644 - Copy.jpg: 640x480 1 class_3, 225.0ms\n",
            "image 96/272 /content/drive/MyDrive/sign_dataset/images/test/IMG_6644.jpg: 640x480 1 class_3, 217.1ms\n",
            "image 97/272 /content/drive/MyDrive/sign_dataset/images/test/IMG_6645 - Copy (2) - Copy.jpg: 640x480 1 class_4, 186.1ms\n",
            "image 98/272 /content/drive/MyDrive/sign_dataset/images/test/IMG_6645 - Copy (2).jpg: 640x480 1 class_4, 212.6ms\n",
            "image 99/272 /content/drive/MyDrive/sign_dataset/images/test/IMG_6645 - Copy (3) - Copy.jpg: 640x480 1 class_4, 195.3ms\n",
            "image 100/272 /content/drive/MyDrive/sign_dataset/images/test/IMG_6645 - Copy (3).jpg: 640x480 1 class_4, 201.2ms\n",
            "image 101/272 /content/drive/MyDrive/sign_dataset/images/test/IMG_6645 - Copy (4).jpg: 640x480 1 class_4, 190.0ms\n",
            "image 102/272 /content/drive/MyDrive/sign_dataset/images/test/IMG_6645 - Copy - Copy.jpg: 640x480 1 class_4, 207.5ms\n",
            "image 103/272 /content/drive/MyDrive/sign_dataset/images/test/IMG_6645 - Copy.jpg: 640x480 1 class_4, 206.2ms\n",
            "image 104/272 /content/drive/MyDrive/sign_dataset/images/test/IMG_6645.jpg: 640x480 1 class_4, 208.2ms\n",
            "image 105/272 /content/drive/MyDrive/sign_dataset/images/test/IMG_6646 - Copy (2) - Copy.jpg: 640x480 1 class_4, 231.1ms\n",
            "image 106/272 /content/drive/MyDrive/sign_dataset/images/test/IMG_6646 - Copy (2).jpg: 640x480 1 class_4, 216.9ms\n",
            "image 107/272 /content/drive/MyDrive/sign_dataset/images/test/IMG_6646 - Copy (3) - Copy.jpg: 640x480 1 class_4, 222.5ms\n",
            "image 108/272 /content/drive/MyDrive/sign_dataset/images/test/IMG_6646 - Copy (3).jpg: 640x480 1 class_4, 221.6ms\n",
            "image 109/272 /content/drive/MyDrive/sign_dataset/images/test/IMG_6646 - Copy (4).jpg: 640x480 1 class_4, 192.9ms\n",
            "image 110/272 /content/drive/MyDrive/sign_dataset/images/test/IMG_6646 - Copy - Copy.jpg: 640x480 1 class_4, 299.7ms\n",
            "image 111/272 /content/drive/MyDrive/sign_dataset/images/test/IMG_6646 - Copy.jpg: 640x480 1 class_4, 321.6ms\n",
            "image 112/272 /content/drive/MyDrive/sign_dataset/images/test/IMG_6646.jpg: 640x480 1 class_4, 329.9ms\n",
            "image 113/272 /content/drive/MyDrive/sign_dataset/images/test/IMG_6647 - Copy (2) - Copy.jpg: 640x480 1 class_5, 320.1ms\n",
            "image 114/272 /content/drive/MyDrive/sign_dataset/images/test/IMG_6647 - Copy (2).jpg: 640x480 1 class_5, 321.3ms\n",
            "image 115/272 /content/drive/MyDrive/sign_dataset/images/test/IMG_6647 - Copy (3) - Copy.jpg: 640x480 1 class_5, 307.2ms\n",
            "image 116/272 /content/drive/MyDrive/sign_dataset/images/test/IMG_6647 - Copy (3).jpg: 640x480 1 class_5, 211.7ms\n",
            "image 117/272 /content/drive/MyDrive/sign_dataset/images/test/IMG_6647 - Copy (4).jpg: 640x480 1 class_5, 214.7ms\n",
            "image 118/272 /content/drive/MyDrive/sign_dataset/images/test/IMG_6647 - Copy - Copy.jpg: 640x480 1 class_5, 218.7ms\n",
            "image 119/272 /content/drive/MyDrive/sign_dataset/images/test/IMG_6647 - Copy.jpg: 640x480 1 class_5, 208.8ms\n",
            "image 120/272 /content/drive/MyDrive/sign_dataset/images/test/IMG_6647.jpg: 640x480 1 class_5, 207.8ms\n",
            "image 121/272 /content/drive/MyDrive/sign_dataset/images/test/IMG_6648 - Copy (2) - Copy.jpg: 640x480 1 class_6, 229.5ms\n",
            "image 122/272 /content/drive/MyDrive/sign_dataset/images/test/IMG_6648 - Copy (2).jpg: 640x480 1 class_6, 180.8ms\n",
            "image 123/272 /content/drive/MyDrive/sign_dataset/images/test/IMG_6648 - Copy (3) - Copy.jpg: 640x480 1 class_6, 199.8ms\n",
            "image 124/272 /content/drive/MyDrive/sign_dataset/images/test/IMG_6648 - Copy (3).jpg: 640x480 1 class_6, 211.4ms\n",
            "image 125/272 /content/drive/MyDrive/sign_dataset/images/test/IMG_6648 - Copy (4).jpg: 640x480 1 class_6, 189.2ms\n",
            "image 126/272 /content/drive/MyDrive/sign_dataset/images/test/IMG_6648 - Copy - Copy.jpg: 640x480 1 class_6, 272.5ms\n",
            "image 127/272 /content/drive/MyDrive/sign_dataset/images/test/IMG_6648 - Copy.jpg: 640x480 1 class_6, 218.5ms\n",
            "image 128/272 /content/drive/MyDrive/sign_dataset/images/test/IMG_6648.jpg: 640x480 1 class_6, 195.3ms\n",
            "image 129/272 /content/drive/MyDrive/sign_dataset/images/test/IMG_6649 - Copy (2) - Copy.jpg: 640x480 1 class_7, 223.9ms\n",
            "image 130/272 /content/drive/MyDrive/sign_dataset/images/test/IMG_6649 - Copy (2).jpg: 640x480 1 class_7, 205.7ms\n",
            "image 131/272 /content/drive/MyDrive/sign_dataset/images/test/IMG_6649 - Copy (3) - Copy.jpg: 640x480 1 class_7, 195.4ms\n",
            "image 132/272 /content/drive/MyDrive/sign_dataset/images/test/IMG_6649 - Copy (3).jpg: 640x480 1 class_7, 202.8ms\n",
            "image 133/272 /content/drive/MyDrive/sign_dataset/images/test/IMG_6649 - Copy (4).jpg: 640x480 1 class_7, 304.6ms\n",
            "image 134/272 /content/drive/MyDrive/sign_dataset/images/test/IMG_6649 - Copy - Copy.jpg: 640x480 1 class_7, 296.9ms\n",
            "image 135/272 /content/drive/MyDrive/sign_dataset/images/test/IMG_6649 - Copy.jpg: 640x480 1 class_7, 322.4ms\n",
            "image 136/272 /content/drive/MyDrive/sign_dataset/images/test/IMG_6649.jpg: 640x480 1 class_7, 327.3ms\n",
            "image 137/272 /content/drive/MyDrive/sign_dataset/images/test/IMG_6650 - Copy (2) - Copy.jpg: 640x480 1 class_7, 320.0ms\n",
            "image 138/272 /content/drive/MyDrive/sign_dataset/images/test/IMG_6650 - Copy (2).jpg: 640x480 1 class_7, 337.4ms\n",
            "image 139/272 /content/drive/MyDrive/sign_dataset/images/test/IMG_6650 - Copy (3) - Copy.jpg: 640x480 1 class_7, 232.6ms\n",
            "image 140/272 /content/drive/MyDrive/sign_dataset/images/test/IMG_6650 - Copy (3).jpg: 640x480 1 class_7, 200.2ms\n",
            "image 141/272 /content/drive/MyDrive/sign_dataset/images/test/IMG_6650 - Copy (4).jpg: 640x480 1 class_7, 215.2ms\n",
            "image 142/272 /content/drive/MyDrive/sign_dataset/images/test/IMG_6650 - Copy - Copy.jpg: 640x480 1 class_7, 205.8ms\n",
            "image 143/272 /content/drive/MyDrive/sign_dataset/images/test/IMG_6650 - Copy.jpg: 640x480 1 class_7, 193.5ms\n",
            "image 144/272 /content/drive/MyDrive/sign_dataset/images/test/IMG_6650.jpg: 640x480 1 class_7, 228.7ms\n",
            "image 145/272 /content/drive/MyDrive/sign_dataset/images/test/IMG_6651 - Copy (2) - Copy.jpg: 640x480 1 class_8, 192.2ms\n",
            "image 146/272 /content/drive/MyDrive/sign_dataset/images/test/IMG_6651 - Copy (2).jpg: 640x480 1 class_8, 187.0ms\n",
            "image 147/272 /content/drive/MyDrive/sign_dataset/images/test/IMG_6651 - Copy (3) - Copy.jpg: 640x480 1 class_8, 217.1ms\n",
            "image 148/272 /content/drive/MyDrive/sign_dataset/images/test/IMG_6651 - Copy (3).jpg: 640x480 1 class_8, 203.9ms\n",
            "image 149/272 /content/drive/MyDrive/sign_dataset/images/test/IMG_6651 - Copy (4).jpg: 640x480 1 class_8, 209.0ms\n",
            "image 150/272 /content/drive/MyDrive/sign_dataset/images/test/IMG_6651 - Copy - Copy.jpg: 640x480 1 class_8, 220.8ms\n",
            "image 151/272 /content/drive/MyDrive/sign_dataset/images/test/IMG_6651 - Copy.jpg: 640x480 1 class_8, 193.4ms\n",
            "image 152/272 /content/drive/MyDrive/sign_dataset/images/test/IMG_6651.jpg: 640x480 1 class_8, 184.2ms\n",
            "image 153/272 /content/drive/MyDrive/sign_dataset/images/test/IMG_6652 - Copy (2) - Copy.jpg: 640x480 1 class_9, 188.5ms\n",
            "image 154/272 /content/drive/MyDrive/sign_dataset/images/test/IMG_6652 - Copy (2).jpg: 640x480 1 class_9, 209.3ms\n",
            "image 155/272 /content/drive/MyDrive/sign_dataset/images/test/IMG_6652 - Copy (3) - Copy.jpg: 640x480 1 class_9, 207.0ms\n",
            "image 156/272 /content/drive/MyDrive/sign_dataset/images/test/IMG_6652 - Copy (3).jpg: 640x480 1 class_9, 330.1ms\n",
            "image 157/272 /content/drive/MyDrive/sign_dataset/images/test/IMG_6652 - Copy (4).jpg: 640x480 1 class_9, 395.3ms\n",
            "image 158/272 /content/drive/MyDrive/sign_dataset/images/test/IMG_6652 - Copy - Copy.jpg: 640x480 1 class_9, 312.1ms\n",
            "image 159/272 /content/drive/MyDrive/sign_dataset/images/test/IMG_6652 - Copy.jpg: 640x480 1 class_9, 302.4ms\n",
            "image 160/272 /content/drive/MyDrive/sign_dataset/images/test/IMG_6652.jpg: 640x480 1 class_9, 332.9ms\n",
            "image 161/272 /content/drive/MyDrive/sign_dataset/images/test/IMG_6653 - Copy (2) - Copy.jpg: 640x480 1 class_10, 276.9ms\n",
            "image 162/272 /content/drive/MyDrive/sign_dataset/images/test/IMG_6653 - Copy (2).jpg: 640x480 1 class_10, 184.3ms\n",
            "image 163/272 /content/drive/MyDrive/sign_dataset/images/test/IMG_6653 - Copy (3) - Copy.jpg: 640x480 1 class_10, 217.9ms\n",
            "image 164/272 /content/drive/MyDrive/sign_dataset/images/test/IMG_6653 - Copy (3).jpg: 640x480 1 class_10, 229.0ms\n",
            "image 165/272 /content/drive/MyDrive/sign_dataset/images/test/IMG_6653 - Copy (4).jpg: 640x480 1 class_10, 191.5ms\n",
            "image 166/272 /content/drive/MyDrive/sign_dataset/images/test/IMG_6653 - Copy - Copy.jpg: 640x480 1 class_10, 204.7ms\n",
            "image 167/272 /content/drive/MyDrive/sign_dataset/images/test/IMG_6653 - Copy.jpg: 640x480 1 class_10, 218.9ms\n",
            "image 168/272 /content/drive/MyDrive/sign_dataset/images/test/IMG_6653.jpg: 640x480 1 class_10, 210.2ms\n",
            "image 169/272 /content/drive/MyDrive/sign_dataset/images/test/IMG_6654 - Copy (2) - Copy.jpg: 640x480 1 class_11, 205.4ms\n",
            "image 170/272 /content/drive/MyDrive/sign_dataset/images/test/IMG_6654 - Copy (2).jpg: 640x480 1 class_11, 185.5ms\n",
            "image 171/272 /content/drive/MyDrive/sign_dataset/images/test/IMG_6654 - Copy (3) - Copy.jpg: 640x480 1 class_11, 189.7ms\n",
            "image 172/272 /content/drive/MyDrive/sign_dataset/images/test/IMG_6654 - Copy (3).jpg: 640x480 1 class_11, 195.3ms\n",
            "image 173/272 /content/drive/MyDrive/sign_dataset/images/test/IMG_6654 - Copy (4).jpg: 640x480 1 class_11, 207.1ms\n",
            "image 174/272 /content/drive/MyDrive/sign_dataset/images/test/IMG_6654 - Copy - Copy.jpg: 640x480 1 class_11, 263.5ms\n",
            "image 175/272 /content/drive/MyDrive/sign_dataset/images/test/IMG_6654 - Copy.jpg: 640x480 1 class_11, 218.5ms\n",
            "image 176/272 /content/drive/MyDrive/sign_dataset/images/test/IMG_6654.jpg: 640x480 1 class_11, 199.7ms\n",
            "image 177/272 /content/drive/MyDrive/sign_dataset/images/test/IMG_6655 - Copy (2) - Copy.jpg: 640x480 1 class_12, 213.0ms\n",
            "image 178/272 /content/drive/MyDrive/sign_dataset/images/test/IMG_6655 - Copy (2).jpg: 640x480 1 class_12, 198.0ms\n",
            "image 179/272 /content/drive/MyDrive/sign_dataset/images/test/IMG_6655 - Copy (3) - Copy.jpg: 640x480 1 class_12, 310.0ms\n",
            "image 180/272 /content/drive/MyDrive/sign_dataset/images/test/IMG_6655 - Copy (3).jpg: 640x480 1 class_12, 290.4ms\n",
            "image 181/272 /content/drive/MyDrive/sign_dataset/images/test/IMG_6655 - Copy (4).jpg: 640x480 1 class_12, 296.9ms\n",
            "image 182/272 /content/drive/MyDrive/sign_dataset/images/test/IMG_6655 - Copy - Copy.jpg: 640x480 1 class_12, 363.0ms\n",
            "image 183/272 /content/drive/MyDrive/sign_dataset/images/test/IMG_6655 - Copy.jpg: 640x480 1 class_12, 293.2ms\n",
            "image 184/272 /content/drive/MyDrive/sign_dataset/images/test/IMG_6655.jpg: 640x480 1 class_12, 230.1ms\n",
            "image 185/272 /content/drive/MyDrive/sign_dataset/images/test/IMG_6658 - Copy (2) - Copy.jpg: 640x480 1 class_13, 192.7ms\n",
            "image 186/272 /content/drive/MyDrive/sign_dataset/images/test/IMG_6658 - Copy (2).jpg: 640x480 1 class_13, 197.6ms\n",
            "image 187/272 /content/drive/MyDrive/sign_dataset/images/test/IMG_6658 - Copy (3) - Copy.jpg: 640x480 1 class_13, 233.0ms\n",
            "image 188/272 /content/drive/MyDrive/sign_dataset/images/test/IMG_6658 - Copy (3).jpg: 640x480 1 class_13, 195.1ms\n",
            "image 189/272 /content/drive/MyDrive/sign_dataset/images/test/IMG_6658 - Copy (4).jpg: 640x480 1 class_13, 215.9ms\n",
            "image 190/272 /content/drive/MyDrive/sign_dataset/images/test/IMG_6658 - Copy - Copy.jpg: 640x480 1 class_13, 186.6ms\n",
            "image 191/272 /content/drive/MyDrive/sign_dataset/images/test/IMG_6658 - Copy.jpg: 640x480 1 class_13, 211.7ms\n",
            "image 192/272 /content/drive/MyDrive/sign_dataset/images/test/IMG_6658.jpg: 640x480 1 class_13, 219.2ms\n",
            "image 193/272 /content/drive/MyDrive/sign_dataset/images/test/IMG_6659 - Copy (2) - Copy.jpg: 640x480 1 class_14, 199.0ms\n",
            "image 194/272 /content/drive/MyDrive/sign_dataset/images/test/IMG_6659 - Copy (2).jpg: 640x480 1 class_14, 205.7ms\n",
            "image 195/272 /content/drive/MyDrive/sign_dataset/images/test/IMG_6659 - Copy (3) - Copy.jpg: 640x480 1 class_14, 205.6ms\n",
            "image 196/272 /content/drive/MyDrive/sign_dataset/images/test/IMG_6659 - Copy (3).jpg: 640x480 1 class_14, 209.3ms\n",
            "image 197/272 /content/drive/MyDrive/sign_dataset/images/test/IMG_6659 - Copy (4).jpg: 640x480 1 class_14, 182.5ms\n",
            "image 198/272 /content/drive/MyDrive/sign_dataset/images/test/IMG_6659 - Copy - Copy.jpg: 640x480 1 class_14, 189.0ms\n",
            "image 199/272 /content/drive/MyDrive/sign_dataset/images/test/IMG_6659 - Copy.jpg: 640x480 1 class_14, 212.9ms\n",
            "image 200/272 /content/drive/MyDrive/sign_dataset/images/test/IMG_6659.jpg: 640x480 1 class_14, 217.4ms\n",
            "image 201/272 /content/drive/MyDrive/sign_dataset/images/test/IMG_6677 - Copy (2) - Copy.jpg: 640x480 1 class_15, 291.9ms\n",
            "image 202/272 /content/drive/MyDrive/sign_dataset/images/test/IMG_6677 - Copy (2).jpg: 640x480 1 class_15, 313.2ms\n",
            "image 203/272 /content/drive/MyDrive/sign_dataset/images/test/IMG_6677 - Copy (3) - Copy.jpg: 640x480 1 class_15, 346.6ms\n",
            "image 204/272 /content/drive/MyDrive/sign_dataset/images/test/IMG_6677 - Copy (3).jpg: 640x480 1 class_15, 285.6ms\n",
            "image 205/272 /content/drive/MyDrive/sign_dataset/images/test/IMG_6677 - Copy (4).jpg: 640x480 1 class_15, 311.3ms\n",
            "image 206/272 /content/drive/MyDrive/sign_dataset/images/test/IMG_6677 - Copy - Copy.jpg: 640x480 1 class_15, 247.7ms\n",
            "image 207/272 /content/drive/MyDrive/sign_dataset/images/test/IMG_6677 - Copy.jpg: 640x480 1 class_15, 242.7ms\n",
            "image 208/272 /content/drive/MyDrive/sign_dataset/images/test/IMG_6677.jpg: 640x480 1 class_15, 193.8ms\n",
            "image 209/272 /content/drive/MyDrive/sign_dataset/images/test/IMG_6678 - Copy (2) - Copy.jpg: 640x480 1 class_15, 195.4ms\n",
            "image 210/272 /content/drive/MyDrive/sign_dataset/images/test/IMG_6678 - Copy (2).jpg: 640x480 1 class_15, 207.6ms\n",
            "image 211/272 /content/drive/MyDrive/sign_dataset/images/test/IMG_6678 - Copy (3) - Copy.jpg: 640x480 1 class_15, 193.1ms\n",
            "image 212/272 /content/drive/MyDrive/sign_dataset/images/test/IMG_6678 - Copy (3).jpg: 640x480 1 class_15, 203.7ms\n",
            "image 213/272 /content/drive/MyDrive/sign_dataset/images/test/IMG_6678 - Copy (4).jpg: 640x480 1 class_15, 193.9ms\n",
            "image 214/272 /content/drive/MyDrive/sign_dataset/images/test/IMG_6678 - Copy - Copy.jpg: 640x480 1 class_15, 199.0ms\n",
            "image 215/272 /content/drive/MyDrive/sign_dataset/images/test/IMG_6678 - Copy.jpg: 640x480 1 class_15, 219.1ms\n",
            "image 216/272 /content/drive/MyDrive/sign_dataset/images/test/IMG_6678.jpg: 640x480 1 class_15, 183.8ms\n",
            "image 217/272 /content/drive/MyDrive/sign_dataset/images/test/IMG_6679 - Copy (2) - Copy.jpg: 640x480 1 class_17, 190.8ms\n",
            "image 218/272 /content/drive/MyDrive/sign_dataset/images/test/IMG_6679 - Copy (2).jpg: 640x480 1 class_17, 197.0ms\n",
            "image 219/272 /content/drive/MyDrive/sign_dataset/images/test/IMG_6679 - Copy (3) - Copy.jpg: 640x480 1 class_17, 196.8ms\n",
            "image 220/272 /content/drive/MyDrive/sign_dataset/images/test/IMG_6679 - Copy (3).jpg: 640x480 1 class_17, 208.3ms\n",
            "image 221/272 /content/drive/MyDrive/sign_dataset/images/test/IMG_6679 - Copy (4).jpg: 640x480 1 class_17, 208.7ms\n",
            "image 222/272 /content/drive/MyDrive/sign_dataset/images/test/IMG_6679 - Copy - Copy.jpg: 640x480 1 class_17, 211.2ms\n",
            "image 223/272 /content/drive/MyDrive/sign_dataset/images/test/IMG_6679 - Copy.jpg: 640x480 1 class_17, 353.8ms\n",
            "image 224/272 /content/drive/MyDrive/sign_dataset/images/test/IMG_6679.jpg: 640x480 1 class_17, 279.1ms\n",
            "image 225/272 /content/drive/MyDrive/sign_dataset/images/test/IMG_6680 - Copy (2) - Copy.jpg: 640x480 1 class_18, 290.6ms\n",
            "image 226/272 /content/drive/MyDrive/sign_dataset/images/test/IMG_6680 - Copy (2).jpg: 640x480 1 class_18, 337.1ms\n",
            "image 227/272 /content/drive/MyDrive/sign_dataset/images/test/IMG_6680 - Copy (3) - Copy.jpg: 640x480 1 class_18, 373.4ms\n",
            "image 228/272 /content/drive/MyDrive/sign_dataset/images/test/IMG_6680 - Copy (3).jpg: 640x480 1 class_18, 224.5ms\n",
            "image 229/272 /content/drive/MyDrive/sign_dataset/images/test/IMG_6680 - Copy (4).jpg: 640x480 1 class_18, 233.3ms\n",
            "image 230/272 /content/drive/MyDrive/sign_dataset/images/test/IMG_6680 - Copy - Copy.jpg: 640x480 1 class_18, 202.5ms\n",
            "image 231/272 /content/drive/MyDrive/sign_dataset/images/test/IMG_6680 - Copy.jpg: 640x480 1 class_18, 204.3ms\n",
            "image 232/272 /content/drive/MyDrive/sign_dataset/images/test/IMG_6680.jpg: 640x480 1 class_18, 206.7ms\n",
            "image 233/272 /content/drive/MyDrive/sign_dataset/images/test/IMG_6681 - Copy (2) - Copy.jpg: 640x480 1 class_19, 182.8ms\n",
            "image 234/272 /content/drive/MyDrive/sign_dataset/images/test/IMG_6681 - Copy (2).jpg: 640x480 1 class_19, 196.0ms\n",
            "image 235/272 /content/drive/MyDrive/sign_dataset/images/test/IMG_6681 - Copy (3) - Copy.jpg: 640x480 1 class_19, 200.1ms\n",
            "image 236/272 /content/drive/MyDrive/sign_dataset/images/test/IMG_6681 - Copy (3).jpg: 640x480 1 class_19, 235.0ms\n",
            "image 237/272 /content/drive/MyDrive/sign_dataset/images/test/IMG_6681 - Copy (4).jpg: 640x480 1 class_19, 200.0ms\n",
            "image 238/272 /content/drive/MyDrive/sign_dataset/images/test/IMG_6681 - Copy - Copy.jpg: 640x480 1 class_19, 197.6ms\n",
            "image 239/272 /content/drive/MyDrive/sign_dataset/images/test/IMG_6681 - Copy.jpg: 640x480 1 class_19, 192.3ms\n",
            "image 240/272 /content/drive/MyDrive/sign_dataset/images/test/IMG_6681.jpg: 640x480 1 class_19, 206.7ms\n",
            "image 241/272 /content/drive/MyDrive/sign_dataset/images/test/IMG_6682 - Copy (2) - Copy.jpg: 640x480 1 class_20, 188.6ms\n",
            "image 242/272 /content/drive/MyDrive/sign_dataset/images/test/IMG_6682 - Copy (2).jpg: 640x480 1 class_20, 208.2ms\n",
            "image 243/272 /content/drive/MyDrive/sign_dataset/images/test/IMG_6682 - Copy (3) - Copy.jpg: 640x480 1 class_20, 223.1ms\n",
            "image 244/272 /content/drive/MyDrive/sign_dataset/images/test/IMG_6682 - Copy (3).jpg: 640x480 1 class_20, 186.3ms\n",
            "image 245/272 /content/drive/MyDrive/sign_dataset/images/test/IMG_6682 - Copy (4).jpg: 640x480 1 class_20, 319.4ms\n",
            "image 246/272 /content/drive/MyDrive/sign_dataset/images/test/IMG_6682 - Copy - Copy.jpg: 640x480 1 class_20, 320.9ms\n",
            "image 247/272 /content/drive/MyDrive/sign_dataset/images/test/IMG_6682 - Copy.jpg: 640x480 1 class_20, 309.1ms\n",
            "image 248/272 /content/drive/MyDrive/sign_dataset/images/test/IMG_6682.jpg: 640x480 1 class_20, 312.4ms\n",
            "image 249/272 /content/drive/MyDrive/sign_dataset/images/test/IMG_6683 - Copy (2) - Copy.jpg: 640x480 1 class_21, 334.9ms\n",
            "image 250/272 /content/drive/MyDrive/sign_dataset/images/test/IMG_6683 - Copy (2).jpg: 640x480 1 class_21, 345.1ms\n",
            "image 251/272 /content/drive/MyDrive/sign_dataset/images/test/IMG_6683 - Copy (3) - Copy.jpg: 640x480 1 class_21, 217.4ms\n",
            "image 252/272 /content/drive/MyDrive/sign_dataset/images/test/IMG_6683 - Copy (3).jpg: 640x480 1 class_21, 227.0ms\n",
            "image 253/272 /content/drive/MyDrive/sign_dataset/images/test/IMG_6683 - Copy (4).jpg: 640x480 1 class_21, 203.0ms\n",
            "image 254/272 /content/drive/MyDrive/sign_dataset/images/test/IMG_6683 - Copy - Copy.jpg: 640x480 1 class_21, 187.9ms\n",
            "image 255/272 /content/drive/MyDrive/sign_dataset/images/test/IMG_6683 - Copy.jpg: 640x480 1 class_21, 199.4ms\n",
            "image 256/272 /content/drive/MyDrive/sign_dataset/images/test/IMG_6683.jpg: 640x480 1 class_21, 223.7ms\n",
            "image 257/272 /content/drive/MyDrive/sign_dataset/images/test/IMG_6684 - Copy (2) - Copy.jpg: 640x480 1 class_21, 196.1ms\n",
            "image 258/272 /content/drive/MyDrive/sign_dataset/images/test/IMG_6684 - Copy (2).jpg: 640x480 1 class_21, 204.7ms\n",
            "image 259/272 /content/drive/MyDrive/sign_dataset/images/test/IMG_6684 - Copy (3) - Copy.jpg: 640x480 1 class_21, 211.6ms\n",
            "image 260/272 /content/drive/MyDrive/sign_dataset/images/test/IMG_6684 - Copy (3).jpg: 640x480 1 class_21, 210.3ms\n",
            "image 261/272 /content/drive/MyDrive/sign_dataset/images/test/IMG_6684 - Copy (4).jpg: 640x480 1 class_21, 234.8ms\n",
            "image 262/272 /content/drive/MyDrive/sign_dataset/images/test/IMG_6684 - Copy - Copy.jpg: 640x480 1 class_21, 218.0ms\n",
            "image 263/272 /content/drive/MyDrive/sign_dataset/images/test/IMG_6684 - Copy.jpg: 640x480 1 class_21, 197.3ms\n",
            "image 264/272 /content/drive/MyDrive/sign_dataset/images/test/IMG_6684.jpg: 640x480 1 class_21, 218.9ms\n",
            "image 265/272 /content/drive/MyDrive/sign_dataset/images/test/IMG_6686 - Copy (2) - Copy.jpg: 640x480 1 class_22, 200.6ms\n",
            "image 266/272 /content/drive/MyDrive/sign_dataset/images/test/IMG_6686 - Copy (2).jpg: 640x480 1 class_22, 239.1ms\n",
            "image 267/272 /content/drive/MyDrive/sign_dataset/images/test/IMG_6686 - Copy (3) - Copy.jpg: 640x480 1 class_22, 268.5ms\n",
            "image 268/272 /content/drive/MyDrive/sign_dataset/images/test/IMG_6686 - Copy (3).jpg: 640x480 1 class_22, 345.5ms\n",
            "image 269/272 /content/drive/MyDrive/sign_dataset/images/test/IMG_6686 - Copy (4).jpg: 640x480 1 class_22, 289.0ms\n",
            "image 270/272 /content/drive/MyDrive/sign_dataset/images/test/IMG_6686 - Copy - Copy.jpg: 640x480 1 class_22, 303.1ms\n",
            "image 271/272 /content/drive/MyDrive/sign_dataset/images/test/IMG_6686 - Copy.jpg: 640x480 1 class_22, 272.5ms\n",
            "image 272/272 /content/drive/MyDrive/sign_dataset/images/test/IMG_6686.jpg: 640x480 1 class_22, 307.2ms\n",
            "Speed: 5.3ms preprocess, 236.7ms inference, 1.6ms postprocess per image at shape (1, 3, 640, 480)\n",
            "Results saved to \u001b[1m/content/drive/MyDrive/yolo_sign_model_runs/predict\u001b[0m\n",
            "264 labels saved to /content/drive/MyDrive/yolo_sign_model_runs/predict/labels\n",
            "✅ Testing complete. Results saved in 'runs/detect/predict' folder within your specified project directory.\n"
          ]
        }
      ]
    },
    {
      "cell_type": "code",
      "metadata": {
        "colab": {
          "base_uri": "https://localhost:8080/"
        },
        "id": "144e6111",
        "outputId": "48d47b62-a068-4b8c-8631-d5d1f26d04c3"
      },
      "source": [
        "from ultralytics import YOLO\n",
        "\n",
        "# Load the trained model\n",
        "model_path = '/content/sign.pt'\n",
        "model = YOLO(model_path)\n",
        "\n",
        "# Evaluate the model\n",
        "metrics = model.val()\n",
        "\n",
        "# Print the evaluation metrics\n",
        "print(\"✅ Evaluation complete.\")\n",
        "print(f\"  mAP@0.5: {metrics.box.map50}\")\n",
        "print(f\"  mAP@0.5:0.95: {metrics.box.map}\")\n",
        "\n",
        "# The evaluation results are also saved in the 'runs/detect/yolo_sign_model' folder"
      ],
      "execution_count": 4,
      "outputs": [
        {
          "output_type": "stream",
          "name": "stdout",
          "text": [
            "Ultralytics 8.3.159 🚀 Python-3.11.13 torch-2.6.0+cu124 CPU (Intel Xeon 2.20GHz)\n",
            "YOLOv12n summary (fused): 159 layers, 2,561,213 parameters, 0 gradients, 6.3 GFLOPs\n",
            "\u001b[34m\u001b[1mval: \u001b[0mFast image access ✅ (ping: 0.5±0.2 ms, read: 304.6±42.2 MB/s, size: 2876.3 KB)\n"
          ]
        },
        {
          "output_type": "stream",
          "name": "stderr",
          "text": [
            "\u001b[34m\u001b[1mval: \u001b[0mScanning /content/drive/MyDrive/sign_dataset/labels/val.cache... 165 images, 107 backgrounds, 0 corrupt: 100%|██████████| 272/272 [00:00<?, ?it/s]\n",
            "                 Class     Images  Instances      Box(P          R      mAP50  mAP50-95): 100%|██████████| 17/17 [02:10<00:00,  7.70s/it]\n"
          ]
        },
        {
          "output_type": "stream",
          "name": "stdout",
          "text": [
            "                   all        272        165       0.61          1      0.734      0.732\n",
            "               class_0          5          5      0.601          1      0.655      0.655\n",
            "               class_1         25         25      0.621          1      0.641      0.641\n",
            "               class_2         15         15      0.621          1      0.742      0.742\n",
            "               class_3         10         10      0.617          1        0.7        0.7\n",
            "               class_4         10         10      0.614          1      0.721      0.721\n",
            "               class_5          5          5      0.611          1      0.622      0.622\n",
            "               class_6          5          5      0.606          1      0.766      0.766\n",
            "               class_7         10         10      0.616          1      0.712      0.712\n",
            "               class_8          5          5      0.602          1      0.895      0.895\n",
            "               class_9          5          5      0.603          1      0.622      0.622\n",
            "              class_10          5          5      0.601          1      0.711      0.711\n",
            "              class_11          5          5        0.6          1      0.779      0.779\n",
            "              class_12          5          5      0.611          1      0.622      0.622\n",
            "              class_13          5          5      0.619          1      0.622      0.622\n",
            "              class_14          5          5      0.616          1      0.803      0.803\n",
            "              class_15         10         10      0.614          1      0.707      0.707\n",
            "              class_17          5          5      0.604          1      0.779      0.779\n",
            "              class_18          5          5       0.61          1      0.695      0.695\n",
            "              class_19          5          5      0.597          1      0.995      0.995\n",
            "              class_20          5          5      0.604          1      0.761      0.761\n",
            "              class_21         10         10       0.62          1      0.712      0.658\n",
            "              class_22          5          5      0.604          1      0.898      0.898\n",
            "Speed: 5.3ms preprocess, 314.3ms inference, 0.0ms loss, 1.2ms postprocess per image\n",
            "Results saved to \u001b[1mruns/detect/val4\u001b[0m\n",
            "✅ Evaluation complete.\n",
            "  mAP@0.5: 0.734479359598192\n",
            "  mAP@0.5:0.95: 0.7320404768072143\n"
          ]
        }
      ]
    },
    {
      "cell_type": "code",
      "metadata": {
        "colab": {
          "base_uri": "https://localhost:8080/"
        },
        "id": "d759b6e3",
        "outputId": "eff34ccc-93ee-458f-b0be-a890294b4165"
      },
      "source": [
        "import os\n",
        "import shutil\n",
        "\n",
        "# Define the destination path in Google Drive\n",
        "drive_save_path = '/content/drive/MyDrive/yolo_sign_model_runs'\n",
        "\n",
        "# Create the directory in Google Drive if it doesn't exist\n",
        "if not os.path.exists(drive_save_path):\n",
        "    os.makedirs(drive_save_path)\n",
        "    print(f\"Created directory: {drive_save_path}\")\n",
        "else:\n",
        "    print(f\"Directory already exists: {drive_save_path}\")\n",
        "\n",
        "# Define the source path of the runs folder\n",
        "runs_folder_path = 'runs/detect/yolo_sign_model' # Make sure this matches the 'name' in your training cell\n",
        "\n",
        "# Copy the runs folder to Google Drive\n",
        "try:\n",
        "    shutil.copytree(runs_folder_path, drive_save_path, dirs_exist_ok=True)\n",
        "    print(f\"Copied '{runs_folder_path}' to '{drive_save_path}'\")\n",
        "except Exception as e:\n",
        "    print(f\"Error copying runs folder: {e}\")"
      ],
      "execution_count": 3,
      "outputs": [
        {
          "output_type": "stream",
          "name": "stdout",
          "text": [
            "Created directory: /content/drive/MyDrive/yolo_sign_model_runs\n",
            "Copied 'runs/detect/yolo_sign_model' to '/content/drive/MyDrive/yolo_sign_model_runs'\n"
          ]
        }
      ]
    }
  ]
}